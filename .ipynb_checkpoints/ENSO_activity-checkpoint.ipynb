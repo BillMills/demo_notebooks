{
 "cells": [
  {
   "cell_type": "markdown",
   "id": "cbf0818c",
   "metadata": {},
   "source": [
    "## In this activity, we will use Argovis to explore temperature fields that were created from observations: our goal is to describe the differences between different phases of ENSO"
   ]
  },
  {
   "cell_type": "markdown",
   "id": "37f6238f",
   "metadata": {},
   "source": [
    "Argovis offers a growing list of gridded products, indexed and downloadable through its API. In this notebook, we'll use the Argovis API to access temperature fields and describe different phases of ENSO."
   ]
  },
  {
   "cell_type": "markdown",
   "id": "79df7f4c",
   "metadata": {},
   "source": [
    "> **This is a beta product!**\n",
    "> Argovis' new API is currently undergoing heavy development. Therefore, everything in these notebooks should be understood as a technical preview only; implementation details may change before a \n",
    "stable release is made. Please send feedback and ideas to argovis@colorado.edu, and see the API docs as they evolve at https://argovis-api.colorado.edu/docs/."
   ]
  },
  {
   "cell_type": "markdown",
   "id": "37e656c7",
   "metadata": {},
   "source": [
    "## Setup\n",
    "\n",
    "In addition to importing a few python packages, make sure to plug in your Argovis API key for `API_KEY` in the next cell. If you don't have a free Argovis API key yet, get one at https://argovis-keygen.colorado.edu/."
   ]
  },
  {
   "cell_type": "code",
   "execution_count": null,
   "id": "99b38d97",
   "metadata": {},
   "outputs": [],
   "source": [
    "import requests, xarray, pandas, math, datetime, copy\n",
    "import numpy as np\n",
    "from datetime import datetime, timedelta\n",
    "from argovisHelpers import helpers as avh\n",
    "import matplotlib.pyplot as plt\n",
    "from scipy import signal\n",
    "\n",
    "import urllib\n",
    "\n",
    "from grids_helper import def_activity_param, run_activity_maps, \\\n",
    "                        run_activity_sections, plot_line_pos_neg,\\\n",
    "                        query_grid_by_region_month_year, \\\n",
    "                        create_boxstr_for_query, \\\n",
    "                        areaweighted_region_mean\n",
    "\n",
    "API_KEY=''\n",
    "API_PREFIX = 'https://argovis-api.colorado.edu/'"
   ]
  },
  {
   "cell_type": "code",
   "execution_count": null,
   "id": "d453e359",
   "metadata": {},
   "outputs": [],
   "source": [
    "# %%javascript\n",
    "# IPython.OutputArea.auto_scroll_threshold = 9999"
   ]
  },
  {
   "cell_type": "markdown",
   "id": "35edbe3b",
   "metadata": {},
   "source": [
    "## Accessing gridded fields in Argovis"
   ]
  },
  {
   "cell_type": "markdown",
   "id": "84365be7",
   "metadata": {},
   "source": [
    "Argovis supports a number of grids through the same API endpoints. Let's begin by discovering what grids are available:"
   ]
  },
  {
   "cell_type": "code",
   "execution_count": null,
   "id": "9787f690",
   "metadata": {},
   "outputs": [],
   "source": [
    "grids = avh.query('grids/vocabulary', options={'parameter':'data_keys'}, apikey=API_KEY, apiroot=API_PREFIX)\n",
    "grids"
   ]
  },
  {
   "cell_type": "markdown",
   "id": "24d41b8b",
   "metadata": {},
   "source": [
    "In the following, we will use the temperature product by Roemmich and Gilson, 2009, i.e. temperature_rg. This product was created mapping mesurements from Argo profiles."
   ]
  },
  {
   "cell_type": "markdown",
   "id": "7b38bf9b",
   "metadata": {},
   "source": [
    "# ---> Let's now use gridded temperature fields to look at maps and describe different ENSO phases"
   ]
  },
  {
   "cell_type": "markdown",
   "id": "802f2601",
   "metadata": {},
   "source": [
    "## Question #1 (please answer in the context of describing different ENSO phases): Which of the regions in the following would be helpful to look at in a temperature map? Options: 'equatorial_atlantic', 'equatorial_indian', 'equatorial_pacific'"
   ]
  },
  {
   "cell_type": "markdown",
   "id": "dba16235",
   "metadata": {},
   "source": [
    "### >>> NOTE: once you have your answer, please edit the next cell (if needed). As an example, if you would like to proceed with the region 'equatorial_atlantic', the line below should look like this: \n",
    "`region_selected       = 'equatorial_atlantic'`"
   ]
  },
  {
   "cell_type": "code",
   "execution_count": null,
   "id": "1916bd08",
   "metadata": {},
   "outputs": [],
   "source": [
    "# select region\n",
    "region_selected       = 'equatorial_atlantic'"
   ]
  },
  {
   "cell_type": "markdown",
   "id": "10b8237e",
   "metadata": {},
   "source": [
    "## Question #2 (please answer in the context of describing different ENSO phases): What depth level should we select for the temperature map? Options: 'near_surface', 'near_1500m'"
   ]
  },
  {
   "cell_type": "markdown",
   "id": "2542280c",
   "metadata": {},
   "source": [
    "### >>> NOTE: once you have your answer, please edit the next cell (if needed). As an example, if you would like to proceed with the depth level 'near_surface', the line below should look like this: \n",
    "`depth_level_selected  = 'near_surface'`"
   ]
  },
  {
   "cell_type": "code",
   "execution_count": null,
   "id": "52d8883d",
   "metadata": {},
   "outputs": [],
   "source": [
    "# select depth level\n",
    "depth_level_selected  = 'near_surface'"
   ]
  },
  {
   "cell_type": "markdown",
   "id": "47e97f05",
   "metadata": {},
   "source": [
    "#### Given the selection above, we now create the parameters to use in the following for the activity. HINT: As you run the next cell, please look at the messages printed on the screen and check if you selected the correct region and depth level for the map."
   ]
  },
  {
   "cell_type": "code",
   "execution_count": null,
   "id": "649bedb9",
   "metadata": {},
   "outputs": [],
   "source": [
    "# create activity parameters based on selection above\n",
    "activity = def_activity_param('activity_enso',region_selected=region_selected, \\\n",
    "                              section_selected_lat='',depth_level_selected=depth_level_selected,\\\n",
    "                               API_KEY=API_KEY, API_PREFIX=API_PREFIX)"
   ]
  },
  {
   "cell_type": "markdown",
   "id": "251ed55a",
   "metadata": {},
   "source": [
    "## Let's first look at the selected temperature map (i.e. for the selected region and depth level) during normal conditions (this is the same as one of the plots we discussed in the lecture)"
   ]
  },
  {
   "cell_type": "markdown",
   "id": "249ad74a",
   "metadata": {},
   "source": [
    "A red box is indicated in the map: this box will be helpful to answer Question #4 later, when you will compare other years to 2013 (2013 is a year characterized by normal conditions)."
   ]
  },
  {
   "cell_type": "code",
   "execution_count": null,
   "id": "d1b88bc0",
   "metadata": {},
   "outputs": [],
   "source": [
    "run_activity_maps(activity=activity,str_year='year_neutral_conditions')"
   ]
  },
  {
   "cell_type": "markdown",
   "id": "6d3ea294",
   "metadata": {},
   "source": [
    "## Question #3: Looking at the map above, describe one characteristic we discussed during the lecture for this temperature field. "
   ]
  },
  {
   "cell_type": "markdown",
   "id": "4788bcc2",
   "metadata": {},
   "source": [
    "# Let's now look at years when wind and current flow are different from normal"
   ]
  },
  {
   "cell_type": "code",
   "execution_count": null,
   "id": "adbae011",
   "metadata": {},
   "outputs": [],
   "source": [
    "run_activity_maps(activity=activity,str_year='year_enso')"
   ]
  },
  {
   "cell_type": "markdown",
   "id": "5952e1a7",
   "metadata": {},
   "source": [
    "## Question #4: For each of the years in the maps above, how does the average temperature within the red box compare to 2013? Which years do you think may correspond to the same ENSO phase? (i.e. which years would you group together as they look similar to one another and different from 2013?) "
   ]
  },
  {
   "cell_type": "markdown",
   "id": "abd38c50",
   "metadata": {},
   "source": [
    "NOTE: the colorbar is the same in each panel, hence each color corresponds to the same temperature in each panel."
   ]
  },
  {
   "cell_type": "markdown",
   "id": "0596f926",
   "metadata": {},
   "source": [
    "#  ---> Let's now use gridded temperature fields to look at zonal  (i.e. along longitude) sections and describe different ENSO phases"
   ]
  },
  {
   "cell_type": "markdown",
   "id": "7483a003",
   "metadata": {},
   "source": [
    "## Question #5 (please answer in the context of describing different ENSO phases): What latitude would be helpful to select (and look at) for a zonal section? Options: 'subpolar','midlatitude','equatorial'"
   ]
  },
  {
   "cell_type": "markdown",
   "id": "8dc23376",
   "metadata": {},
   "source": [
    "### >>> NOTE: once you have your answer, please edit the next cell (if needed). As an example, if you would like to proceed with a 'subpolar' latitude, the line below should look like this: \n",
    "`section_selected_lat = 'subpolar'`"
   ]
  },
  {
   "cell_type": "code",
   "execution_count": null,
   "id": "a16ba921",
   "metadata": {},
   "outputs": [],
   "source": [
    "# select latitude band\n",
    "section_selected_lat = 'subpolar'"
   ]
  },
  {
   "cell_type": "markdown",
   "id": "4ea93e1b",
   "metadata": {},
   "source": [
    "#### Given the selection above, we now create the parameters to use in the following for the activity. HINT: As you run the next cell, please look at the messages printed on the screen and check if you selected the correct latitude for the section."
   ]
  },
  {
   "cell_type": "code",
   "execution_count": null,
   "id": "dd462c2b",
   "metadata": {},
   "outputs": [],
   "source": [
    "# create activity parameters based on selection above\n",
    "activity = def_activity_param('activity_enso',region_selected=region_selected, \\\n",
    "                              section_selected_lat=section_selected_lat,depth_level_selected=depth_level_selected,\\\n",
    "                               API_KEY=API_KEY, API_PREFIX=API_PREFIX)"
   ]
  },
  {
   "cell_type": "markdown",
   "id": "b087d0cf",
   "metadata": {},
   "source": [
    "# Let's first look at the selected latitude band during normal conditions (this is the same as one of the plots we discussed during the lecture)"
   ]
  },
  {
   "cell_type": "code",
   "execution_count": null,
   "id": "29f447b2",
   "metadata": {},
   "outputs": [],
   "source": [
    "run_activity_sections(activity=activity,str_year='year_neutral_conditions')"
   ]
  },
  {
   "cell_type": "markdown",
   "id": "538c38d0",
   "metadata": {},
   "source": [
    "## Question #6: Describe one characteristic we discussed (during the lecture) for this temperature field. Hint: describe the tilt of the 20-degree isotherm (black line)."
   ]
  },
  {
   "cell_type": "markdown",
   "id": "ccd621da",
   "metadata": {},
   "source": [
    "# Let's now look at years when wind and current flow are different from normal"
   ]
  },
  {
   "cell_type": "code",
   "execution_count": null,
   "id": "6cad4f15",
   "metadata": {},
   "outputs": [],
   "source": [
    "run_activity_sections(activity=activity,str_year='year_enso')"
   ]
  },
  {
   "cell_type": "markdown",
   "id": "aa2104c5",
   "metadata": {},
   "source": [
    "## Question #7: For each of the years, how does the temperature section compare with 2013? Which years do you think may correspond to the same ENSO phase? (i.e. which years would you group together as they look similar to one another and different from 2013?) Are the years in each group the same as in your answer for question #4?"
   ]
  },
  {
   "cell_type": "markdown",
   "id": "f3a8090c",
   "metadata": {},
   "source": [
    "NOTE: the colorbar is the same in each panel, hence each color corresponds to the same temperature in each panel."
   ]
  },
  {
   "cell_type": "markdown",
   "id": "0f168b11",
   "metadata": {},
   "source": [
    "# >>>>>>> ***Today's in-class activity ends here. If curious, please explore the remaining part of the notebook at home.*** <<<<<<<"
   ]
  },
  {
   "cell_type": "markdown",
   "id": "8367080e",
   "metadata": {},
   "source": [
    "## The remaining part of the notebook shows how to plot the ONI index and compare it with a temperature timeseries (in the same region) from the Roemmich and Gilson product. Please note the code may take several minutes to complete for the last plot in the notebook. If you run the code, you should see the plots we discussed in class."
   ]
  },
  {
   "cell_type": "markdown",
   "id": "a84e7f70",
   "metadata": {},
   "source": [
    "## Oceanic Niño Index (ONI)"
   ]
  },
  {
   "cell_type": "markdown",
   "id": "e132007e",
   "metadata": {},
   "source": [
    "In the following, we will consider the ONI index (https://www.climate.gov/news-features/understanding-climate/climate-variability-oceanic-ni%C3%B1o-index). There are several indices used to monitor the tropical Pacific, all of which are based on SST anomalies averaged across a given region.  Usually the anomalies are computed relative to a base period of 30 years.  The Niño 3.4 index and the Oceanic Niño Index (ONI) are the most commonly used indices to define El Niño and La Niña events.  The ONI uses the same region as the Niño 3.4 index (5N-5S, 170W-120W).  The ONI uses a 3-month running mean, and to be classified as a full-fledged El Niño or La Niña, the anomalies must exceed +0.5C or -0.5C for at least five consecutive months.  This is the operational definition used by NOAA.\n",
    "\n",
    "We will compare the ONI index to a tempearature time series from the Roemmich and Gilson (2009) product."
   ]
  },
  {
   "cell_type": "code",
   "execution_count": null,
   "id": "ece292a4",
   "metadata": {},
   "outputs": [],
   "source": [
    "# load ONI\n",
    "url = \"https://www.cpc.ncep.noaa.gov/data/indices/oni.ascii.txt\"\n",
    "file = urllib.request.urlopen(url)\n",
    "\n",
    "ONI = []\n",
    "ONI_year = []\n",
    "ONI_mmm  = []\n",
    "\n",
    "for line in file:\n",
    "    decoded_line = line.decode(\"utf-8\")\n",
    "    #print(decoded_line)\n",
    "    if decoded_line.split(' ')[-1].replace('\\n','') !='ANOM':\n",
    "        ONI.append(float(decoded_line.split(' ')[-1].replace('\\n','')))\n",
    "        ONI_year.append(int(decoded_line.split(' ')[3]))\n",
    "        ONI_mmm.append((decoded_line.split(' ')[2]))"
   ]
  },
  {
   "cell_type": "code",
   "execution_count": null,
   "id": "34cf35db",
   "metadata": {},
   "outputs": [],
   "source": [
    "# create datetime64 axis for ONI\n",
    "ONI_datetime64 = []\n",
    "for iyr in np.unique(ONI_year):\n",
    "    msk = [x==iyr for x in ONI_year]\n",
    "    for mm in np.arange(1,sum(msk)+1,1):\n",
    "        ONI_datetime64.append(np.datetime64(f'{iyr:04d}'+'-'+f'{mm:02d}'+'-15'))"
   ]
  },
  {
   "cell_type": "markdown",
   "id": "5856fc5d",
   "metadata": {},
   "source": [
    "Let's plot the ONI during the period of the Roemmich and Gilson (2009) product."
   ]
  },
  {
   "cell_type": "code",
   "execution_count": null,
   "id": "e74ca778",
   "metadata": {},
   "outputs": [],
   "source": [
    "plot_line_pos_neg(data=np.array(ONI),data_time=np.array(ONI_datetime64), \\\n",
    "                  data_time_delta_num=12,data_ylabel='Temperature, degC',data_title='ONI',font_size='26')\n",
    "\n",
    "plt.xlim(np.datetime64('2004-01-01'),np.datetime64('2021-12-31'))\n",
    "#plt.xlim(np.datetime64('1990-01-01'),np.datetime64('2022-12-31'))\n",
    "plt.show()"
   ]
  },
  {
   "cell_type": "markdown",
   "id": "fa8dd6c5",
   "metadata": {},
   "source": [
    "## Now let's make a plot for the same region from the Roemmich and Gilson (2009) product. "
   ]
  },
  {
   "cell_type": "markdown",
   "id": "d2b41a32",
   "metadata": {},
   "source": [
    "The code below was run before and the plot included, as it takes a few minutes to get the data from Argovis. You can still run the code yourself: if you do so and wait, you should obtain the same plot."
   ]
  },
  {
   "cell_type": "code",
   "execution_count": null,
   "id": "c301ec6b",
   "metadata": {},
   "outputs": [],
   "source": [
    "latitude_south_index = -5\n",
    "latitude_north_index = 5\n",
    "\n",
    "longitude_west_index = -170\n",
    "longitude_east_index = -120\n",
    "\n",
    "levels_index    = '0,5' # '290,310' # '0,5'\n",
    "\n",
    "data = query_grid_by_region_month_year(grid_name=activity['grid_name'],\\\n",
    "                                        region_str = create_boxstr_for_query(longitude_west=longitude_west_index,\\\n",
    "                                                                             longitude_east=longitude_east_index, \\\n",
    "                                                                             latitude_south=latitude_south_index,\\\n",
    "                                                                             latitude_north=latitude_north_index), \\\n",
    "                                        long_conversion_type='long20_380',\\\n",
    "                                        levels=levels_index,\\\n",
    "                                        month_start=1,year_start=2004,\\\n",
    "                                        month_end=12,year_end=2021,\\\n",
    "                                        API_KEY=API_KEY,API_PREFIX=API_PREFIX)\n",
    "\n",
    "# compute anomalies\n",
    "data_reg_ave = areaweighted_region_mean(dxr=data.mean(dim=\"pressure\"))\n",
    "data_reg_ave_detrend = data_reg_ave*0 + signal.detrend(data_reg_ave[\"data\"])\n",
    "climatology = data_reg_ave_detrend.groupby(\"time.month\").mean(\"time\")\n",
    "data_reg_ave_anom   = data_reg_ave_detrend.groupby(\"time.month\") - climatology"
   ]
  },
  {
   "cell_type": "markdown",
   "id": "a31571be",
   "metadata": {},
   "source": [
    "Plot timeseries for the horizontal average, highlighting positive versus negative values. This figure should look like the one just above (as that one was obtained running the same code)."
   ]
  },
  {
   "cell_type": "code",
   "execution_count": null,
   "id": "56346219",
   "metadata": {},
   "outputs": [],
   "source": [
    "plot_line_pos_neg(data=data_reg_ave_anom[\"data\"],data_time=data_reg_ave_anom[\"time\"].to_numpy(), \\\n",
    "                  data_time_delta_num=12,data_ylabel='Temperature, degC', \\\n",
    "                  data_title='Anomaly, after removing the 12-month climatology',font_size='26')\n",
    "\n",
    "plt.xlim(np.datetime64('2004-01-01'),np.datetime64('2021-12-31'))\n",
    "plt.show()"
   ]
  },
  {
   "cell_type": "code",
   "execution_count": null,
   "id": "2ec5420e",
   "metadata": {},
   "outputs": [],
   "source": [
    "# # plots\n",
    "# climatology[\"data\"].plot(size=10,aspect=3)\n",
    "# data_reg_ave[\"data\"].plot(size=10,aspect=3)\n",
    "# data_reg_ave_detrend[\"data\"].plot(size=10,aspect=3)\n"
   ]
  },
  {
   "cell_type": "code",
   "execution_count": null,
   "id": "dd9fc8b7",
   "metadata": {},
   "outputs": [],
   "source": []
  },
  {
   "cell_type": "code",
   "execution_count": null,
   "id": "a83c559b",
   "metadata": {},
   "outputs": [],
   "source": []
  },
  {
   "cell_type": "code",
   "execution_count": null,
   "id": "eb14a3d2",
   "metadata": {},
   "outputs": [],
   "source": []
  },
  {
   "cell_type": "code",
   "execution_count": null,
   "id": "b613f01a",
   "metadata": {},
   "outputs": [],
   "source": []
  },
  {
   "cell_type": "code",
   "execution_count": null,
   "id": "1c7e5b4c",
   "metadata": {},
   "outputs": [],
   "source": []
  }
 ],
 "metadata": {
  "kernelspec": {
   "display_name": "argovis_demos",
   "language": "python",
   "name": "argovis_demos"
  },
  "language_info": {
   "codemirror_mode": {
    "name": "ipython",
    "version": 3
   },
   "file_extension": ".py",
   "mimetype": "text/x-python",
   "name": "python",
   "nbconvert_exporter": "python",
   "pygments_lexer": "ipython3",
   "version": "3.9.13"
  },
  "toc": {
   "base_numbering": 1,
   "nav_menu": {},
   "number_sections": true,
   "sideBar": true,
   "skip_h1_title": false,
   "title_cell": "Table of Contents",
   "title_sidebar": "Contents",
   "toc_cell": false,
   "toc_position": {},
   "toc_section_display": true,
   "toc_window_display": false
  }
 },
 "nbformat": 4,
 "nbformat_minor": 5
}
