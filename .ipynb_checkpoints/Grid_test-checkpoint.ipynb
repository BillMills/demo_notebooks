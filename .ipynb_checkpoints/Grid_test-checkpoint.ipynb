{
 "cells": [
  {
   "cell_type": "markdown",
   "id": "07b4f584",
   "metadata": {},
   "source": [
    "## In this activity, we will use Argovis to explore temperature fields that were created from observations: our goal is to describe the differences between different phases of ENSO"
   ]
  },
  {
   "cell_type": "markdown",
   "id": "d634e9a3",
   "metadata": {},
   "source": [
    "Argovis offers a growing list of gridded products, indexed and downloadable through its API. In this notebook, we'll use the Argovis API to access temperature fields and describe different phases of ENSO."
   ]
  },
  {
   "cell_type": "markdown",
   "id": "ccb7b39a",
   "metadata": {},
   "source": [
    "> **This is a beta product!**\n",
    "> Argovis' new API is currently undergoing heavy development. Therefore, everything in these notebooks should be understood as a technical preview only; implementation details may change before a \n",
    "stable release is made. Please send feedback and ideas to argovis@colorado.edu, and see the API docs as they evolve at https://argovis-api.colorado.edu/docs/."
   ]
  },
  {
   "cell_type": "markdown",
   "id": "b3eeb46f",
   "metadata": {},
   "source": [
    "## Setup\n",
    "\n",
    "In addition to importing a few python packages, make sure to plug in your Argovis API key for `API_KEY` in the next cell. If you don't have a free Argovis API key yet, get one at https://argovis-keygen.colorado.edu/."
   ]
  },
  {
   "cell_type": "code",
   "execution_count": 1,
   "id": "83ac6e73",
   "metadata": {},
   "outputs": [],
   "source": [
    "import requests, xarray, pandas, math, datetime, copy\n",
    "import numpy as np\n",
    "from datetime import datetime, timedelta\n",
    "from argovisHelpers import helpers as avh\n",
    "import matplotlib.pyplot as plt\n",
    "from scipy import signal\n",
    "\n",
    "import urllib\n",
    "\n",
    "from grids_helper import def_activity_param, run_activity_maps, \\\n",
    "                        run_activity_sections, plot_line_pos_neg,\\\n",
    "                        query_grid_by_region_month_year, \\\n",
    "                        create_boxstr_for_query, \\\n",
    "                        areaweighted_region_mean\n",
    "\n",
    "API_KEY=''\n",
    "API_PREFIX = 'https://argovis-api.colorado.edu/'"
   ]
  },
  {
   "cell_type": "code",
   "execution_count": 2,
   "id": "a2e7c7d8",
   "metadata": {},
   "outputs": [],
   "source": [
    "# %%javascript\n",
    "# IPython.OutputArea.auto_scroll_threshold = 9999"
   ]
  },
  {
   "cell_type": "markdown",
   "id": "515d2db7",
   "metadata": {},
   "source": [
    "## Accessing gridded fields in Argovis"
   ]
  },
  {
   "cell_type": "markdown",
   "id": "9f2dcbf7",
   "metadata": {},
   "source": [
    "Argovis supports a number of grids through the same API endpoints. Let's begin by discovering what grids are available:"
   ]
  },
  {
   "cell_type": "code",
   "execution_count": 3,
   "id": "2a909ec8",
   "metadata": {},
   "outputs": [
    {
     "data": {
      "text/plain": [
       "['ohc_kg', 'salinity_rg', 'temperature_rg']"
      ]
     },
     "execution_count": 3,
     "metadata": {},
     "output_type": "execute_result"
    }
   ],
   "source": [
    "grids = avh.query('grids/vocabulary', options={'parameter':'data_keys'}, apikey=API_KEY, apiroot=API_PREFIX)\n",
    "grids"
   ]
  },
  {
   "cell_type": "markdown",
   "id": "ace42ccf",
   "metadata": {},
   "source": [
    "In the following, we will use the temperature product by Roemmich and Gilson, 2009, i.e. temperature_rg. This product was created mapping mesurements from Argo profiles."
   ]
  },
  {
   "cell_type": "markdown",
   "id": "6989b360",
   "metadata": {},
   "source": [
    "### Test"
   ]
  },
  {
   "cell_type": "markdown",
   "id": "50a5073e",
   "metadata": {},
   "source": [
    "## Now let's make a plot for the same region from the Roemmich and Gilson (2009) product. "
   ]
  },
  {
   "cell_type": "markdown",
   "id": "b9c72557",
   "metadata": {},
   "source": [
    "The code below takes a few minutes to get the data from Argovis. "
   ]
  },
  {
   "cell_type": "code",
   "execution_count": 4,
   "id": "c571dd0a",
   "metadata": {},
   "outputs": [],
   "source": [
    "# 150.5,-119.5,-3,3\n",
    "latitude_south_index = -5\n",
    "latitude_north_index = 3\n",
    "\n",
    "longitude_west_index = 150\n",
    "longitude_east_index = -150\n",
    "\n",
    "levels_index    = '0,2000' # '290,310' # '0,5'"
   ]
  },
  {
   "cell_type": "code",
   "execution_count": null,
   "id": "457c3c15",
   "metadata": {},
   "outputs": [],
   "source": [
    "data = query_grid_by_region_month_year(grid_name=activity['grid_name'],\\\n",
    "                                        region_str = create_boxstr_for_query(longitude_west=longitude_west_index,\\\n",
    "                                                                             longitude_east=longitude_east_index, \\\n",
    "                                                                             latitude_south=latitude_south_index,\\\n",
    "                                                                             latitude_north=latitude_north_index), \\\n",
    "                                        long_conversion_type='long20_380',\\\n",
    "                                        levels=levels_index,\\\n",
    "                                        month_start=1,year_start=2004,\\\n",
    "                                        month_end=12,year_end=2021,\\\n",
    "                                        API_KEY=API_KEY,API_PREFIX=API_PREFIX)"
   ]
  },
  {
   "cell_type": "code",
   "execution_count": null,
   "id": "71389f9d",
   "metadata": {},
   "outputs": [],
   "source": [
    "# compute anomalies\n",
    "#data_reg_ave = areaweighted_region_mean(dxr=data.mean(dim=\"pressure\"))\n",
    "data_reg_ave = data\n",
    "data_reg_ave_detrend = data_reg_ave*0 + signal.detrend(data_reg_ave[\"data\"])\n",
    "climatology = data_reg_ave_detrend.groupby(\"time.month\").mean(\"time\")\n",
    "data_reg_ave_anom   = data_reg_ave_detrend.groupby(\"time.month\") - climatology"
   ]
  },
  {
   "cell_type": "markdown",
   "id": "95f804ab",
   "metadata": {},
   "source": [
    "Plot timeseries for the horizontal average, highlighting positive versus negative values. This figure should look like the one just above (as that one was obtained running the same code)."
   ]
  },
  {
   "cell_type": "code",
   "execution_count": null,
   "id": "57c88876",
   "metadata": {},
   "outputs": [],
   "source": [
    "plot_line_pos_neg(data=data_reg_ave_anom[\"data\"],data_time=data_reg_ave_anom[\"time\"].to_numpy(), \\\n",
    "                  data_time_delta_num=12,data_ylabel='Temperature, degC', \\\n",
    "                  data_title='Anomaly, after removing the 12-month climatology',font_size='26')\n",
    "\n",
    "plt.xlim(np.datetime64('2004-01-01'),np.datetime64('2021-12-31'))\n",
    "plt.show()"
   ]
  },
  {
   "cell_type": "code",
   "execution_count": null,
   "id": "71fbbd26",
   "metadata": {},
   "outputs": [],
   "source": [
    "# # plots\n",
    "# climatology[\"data\"].plot(size=10,aspect=3)\n",
    "# data_reg_ave[\"data\"].plot(size=10,aspect=3)\n",
    "# data_reg_ave_detrend[\"data\"].plot(size=10,aspect=3)\n"
   ]
  },
  {
   "cell_type": "code",
   "execution_count": null,
   "id": "e834fd80",
   "metadata": {},
   "outputs": [],
   "source": []
  },
  {
   "cell_type": "code",
   "execution_count": null,
   "id": "fc269295",
   "metadata": {},
   "outputs": [],
   "source": []
  },
  {
   "cell_type": "code",
   "execution_count": null,
   "id": "a65d908e",
   "metadata": {},
   "outputs": [],
   "source": []
  },
  {
   "cell_type": "code",
   "execution_count": null,
   "id": "8e68f861",
   "metadata": {},
   "outputs": [],
   "source": []
  },
  {
   "cell_type": "code",
   "execution_count": null,
   "id": "c813cdef",
   "metadata": {},
   "outputs": [],
   "source": []
  }
 ],
 "metadata": {
  "kernelspec": {
   "display_name": "argovis_demos",
   "language": "python",
   "name": "argovis_demos"
  },
  "language_info": {
   "codemirror_mode": {
    "name": "ipython",
    "version": 3
   },
   "file_extension": ".py",
   "mimetype": "text/x-python",
   "name": "python",
   "nbconvert_exporter": "python",
   "pygments_lexer": "ipython3",
   "version": "3.9.13"
  },
  "toc": {
   "base_numbering": 1,
   "nav_menu": {},
   "number_sections": true,
   "sideBar": true,
   "skip_h1_title": false,
   "title_cell": "Table of Contents",
   "title_sidebar": "Contents",
   "toc_cell": false,
   "toc_position": {},
   "toc_section_display": true,
   "toc_window_display": false
  }
 },
 "nbformat": 4,
 "nbformat_minor": 5
}
