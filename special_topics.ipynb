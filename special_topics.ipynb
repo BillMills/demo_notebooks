{
 "cells": [
  {
   "cell_type": "markdown",
   "id": "bc9afc7f",
   "metadata": {},
   "source": [
    "# Special topics\n",
    "\n",
    "This notebook contains some special topics and plots requested internally at Argovis. Public consumers should focus on our educational notebooks, starting with [Intro to Argovis](https://github.com/argovis/demo_notebooks/blob/main/Intro_to_Argovis.ipynb)."
   ]
  },
  {
   "cell_type": "code",
   "execution_count": 1,
   "id": "29b635d9",
   "metadata": {},
   "outputs": [],
   "source": [
    "from argovisHelpers import helpers as avh\n",
    "import datetime, pandas, matplotlib, scipy, numpy\n",
    "import matplotlib.pyplot as plt\n",
    "import helpers\n",
    "import numpy as np\n",
    "\n",
    "API_ROOT='https://argovis-api.colorado.edu/'\n",
    "API_KEY=''"
   ]
  },
  {
   "cell_type": "code",
   "execution_count": 2,
   "id": "ed656e1f",
   "metadata": {},
   "outputs": [],
   "source": [
    "# get some profiles\n",
    "\n",
    "#gulf_region = [[-95.62500000000001,27.237700025057197],[-85.51757812500001,27.938769379601297],[-85.166015625,23.506239070955658],[-95.62500000000001,21.88460897800666],[-95.62500000000001,27.237700025057197]]\n",
    "# argo = {\n",
    "#     'startDate': '2020-01-01T00:00:00Z',\n",
    "#     'endDate': '2020-01-02T00:00:00Z',\n",
    "#     'polygon': gulf_region,\n",
    "#     'data': 'temperature,salinity'\n",
    "# }\n",
    "pac_region = [[-155,-1.5],[-155,-30],[-145,-30],[-145,-1.5],[-155,-1.5]]\n",
    "argo = {\n",
    "    'startDate': '2022-12-30T00:00:00Z',\n",
    "    'endDate': '2023-01-13T00:00:00Z',\n",
    "    'polygon': pac_region,\n",
    "    'data': 'temperature,salinity'\n",
    "} # querying only profiles that have both temperature and salinity\n",
    "\n",
    "floats = avh.query('argo', options=argo, apikey=API_KEY, apiroot=API_ROOT)"
   ]
  },
  {
   "cell_type": "code",
   "execution_count": 3,
   "id": "ced14fd2",
   "metadata": {},
   "outputs": [],
   "source": [
    "# let's select only levels that have a valid T and S\n",
    "def delete_if_none(list1, list2, list3):\n",
    "    result1 = []\n",
    "    result2 = []\n",
    "    result3 = []\n",
    "\n",
    "    for i in range(len(list1)):\n",
    "        if list1[i] is not None and list2[i] is not None and list3[i] is not None:\n",
    "            result1.append(list1[i])\n",
    "            result2.append(list2[i])\n",
    "            result3.append(list3[i])\n",
    "\n",
    "    return result1, result2, result3\n",
    "\n",
    "def find_variable_index(profile, variable):\n",
    "    return profile['data_info'][0].index(variable)\n",
    "\n",
    "\n",
    "filtered_profiles = []\n",
    "for f in floats:\n",
    "    filtered_pressure, filtered_temperature, filtered_salinity = delete_if_none(f['data'][find_variable_index(f, 'pressure')], f['data'][find_variable_index(f, 'temperature')], f['data'][find_variable_index(f, 'salinity')])\n",
    "    filtered_profiles.append([filtered_pressure, filtered_temperature, filtered_salinity])"
   ]
  },
  {
   "cell_type": "code",
   "execution_count": 4,
   "id": "cc955146",
   "metadata": {},
   "outputs": [],
   "source": [
    "# only makes sense for profiles that have levels spanning the region of interest\n",
    "\n",
    "shallow = 10\n",
    "deep = 1800\n",
    "\n",
    "# select only profiles that have measurements in the range of interest\n",
    "profiles = [f for f in filtered_profiles if f[0][0] < shallow and f[0][-1] > deep]"
   ]
  },
  {
   "cell_type": "code",
   "execution_count": 5,
   "id": "5ec4e16c",
   "metadata": {},
   "outputs": [],
   "source": [
    "# interpolate temperature and salinity\n",
    "\n",
    "levels = list(range(shallow,deep,5))\n",
    "\n",
    "interpolated_temperatures = np.array([list(scipy.interpolate.pchip_interpolate(p[0], p[1], levels)) for p in profiles])\n",
    "interpolated_salinity = np.array([list(scipy.interpolate.pchip_interpolate(p[0], p[2], levels)) for p in profiles])"
   ]
  },
  {
   "cell_type": "code",
   "execution_count": 6,
   "id": "fdb06e76",
   "metadata": {},
   "outputs": [
    {
     "data": {
      "text/plain": [
       "(39, 358)"
      ]
     },
     "execution_count": 6,
     "metadata": {},
     "output_type": "execute_result"
    }
   ],
   "source": [
    "# transpose and cast to various rectangular forms as desired\n",
    "\n",
    "numpy.shape(interpolated_temperatures)"
   ]
  },
  {
   "cell_type": "code",
   "execution_count": 7,
   "id": "664679a5",
   "metadata": {},
   "outputs": [
    {
     "data": {
      "text/plain": [
       "<matplotlib.colorbar.Colorbar at 0x7f3b85c698e0>"
      ]
     },
     "execution_count": 7,
     "metadata": {},
     "output_type": "execute_result"
    },
    {
     "data": {
      "image/png": "[encoded data removed]",
      "text/plain": [
       "<Figure size 640x480 with 2 Axes>"
      ]
     },
     "metadata": {},
     "output_type": "display_data"
    }
   ],
   "source": [
    "plt.hist2d(interpolated_salinity.flatten(),interpolated_temperatures.flatten(),density=True,\n",
    "           bins=[np.arange(34,36.5,.05),np.arange(0,30,.2)],cmap='YlOrRd') #hot_r\n",
    "plt.colorbar()"
   ]
  },
  {
   "cell_type": "code",
   "execution_count": null,
   "id": "6c8dbcd1",
   "metadata": {},
   "outputs": [],
   "source": []
  }
 ],
 "metadata": {
  "kernelspec": {
   "display_name": "argovis_demos",
   "language": "python",
   "name": "argovis_demos"
  },
  "language_info": {
   "codemirror_mode": {
    "name": "ipython",
    "version": 3
   },
   "file_extension": ".py",
   "mimetype": "text/x-python",
   "name": "python",
   "nbconvert_exporter": "python",
   "pygments_lexer": "ipython3",
   "version": "3.9.12"
  },
  "toc": {
   "base_numbering": 1,
   "nav_menu": {},
   "number_sections": true,
   "sideBar": true,
   "skip_h1_title": false,
   "title_cell": "Table of Contents",
   "title_sidebar": "Contents",
   "toc_cell": false,
   "toc_position": {},
   "toc_section_display": true,
   "toc_window_display": false
  }
 },
 "nbformat": 4,
 "nbformat_minor": 5
}
