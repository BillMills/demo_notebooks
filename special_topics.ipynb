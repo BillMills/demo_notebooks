{
 "cells": [
  {
   "cell_type": "markdown",
   "id": "935f2f65",
   "metadata": {},
   "source": [
    "# Special topics\n",
    "\n",
    "This notebook contains some special topics and plots requested internally at Argovis. Public consumers should focus on our educational notebooks, starting with [Intro to Argovis](https://github.com/argovis/demo_notebooks/blob/main/Intro_to_Argovis.ipynb)."
   ]
  },
  {
   "cell_type": "code",
   "execution_count": 1,
   "id": "3c2bb755",
   "metadata": {},
   "outputs": [],
   "source": [
    "from argovisHelpers import helpers as avh\n",
    "import datetime, pandas, matplotlib, scipy, numpy\n",
    "import numpy as np\n",
    "import helpers\n",
    "import matplotlib.pyplot as plt\n",
    "from matplotlib import cm\n",
    "\n",
    "API_ROOT='https://argovis-api.colorado.edu/'\n",
    "API_KEY=''"
   ]
  },
  {
   "cell_type": "markdown",
   "id": "eca52cb7",
   "metadata": {},
   "source": [
    "### Getting data from Argovis"
   ]
  },
  {
   "cell_type": "markdown",
   "id": "cf2463eb",
   "metadata": {},
   "source": [
    "In the following we ask Argovis to return profiles that have both temperature and salinity with QC = 1 (the best QC flag) in a region and time period of interest. If curious, try and run the notebook using 'data': 'temperature,salinity' in the following cell (instead of 'data': 'temperature,1,salinity,1'). The TS diagrams will look different as some data with bad QC will be returned, if we don't tell Argovis we only want QC = 1."
   ]
  },
  {
   "cell_type": "code",
   "execution_count": 2,
   "id": "e8f1acb1",
   "metadata": {},
   "outputs": [],
   "source": [
    "# get TS profiles in a region and time period of interest\n",
    "\n",
    "pac_region = [[-155,-1.5],[-155,-30],[-145,-30],[-145,-1.5],[-155,-1.5]]\n",
    "argo = {\n",
    "    'startDate': '2022-12-30T00:00:00Z',\n",
    "    'endDate': '2023-01-13T00:00:00Z',\n",
    "    'polygon': pac_region,\n",
    "    'data': 'temperature,1,salinity,1'\n",
    "} # querying only profiles that have both temperature and salinity\n",
    "\n",
    "floats = avh.query('argo', options=argo, apikey=API_KEY, apiroot=API_ROOT)"
   ]
  },
  {
   "cell_type": "code",
   "execution_count": 3,
   "id": "f9a71b70",
   "metadata": {},
   "outputs": [],
   "source": [
    "# let's select only levels that have a valid T and S\n",
    "def delete_if_none(list1, list2, list3):\n",
    "    result1 = []\n",
    "    result2 = []\n",
    "    result3 = []\n",
    "\n",
    "    for i in range(len(list1)):\n",
    "        if list1[i] is not None and list2[i] is not None and list3[i] is not None:\n",
    "            result1.append(list1[i])\n",
    "            result2.append(list2[i])\n",
    "            result3.append(list3[i])\n",
    "\n",
    "    return result1, result2, result3\n",
    "\n",
    "def find_variable_index(profile, variable):\n",
    "    return profile['data_info'][0].index(variable)\n",
    "\n",
    "\n",
    "filtered_profiles = []\n",
    "for f in floats:\n",
    "    filtered_pressure, filtered_temperature, filtered_salinity = delete_if_none(f['data'][find_variable_index(f, 'pressure')], f['data'][find_variable_index(f, 'temperature')], f['data'][find_variable_index(f, 'salinity')])\n",
    "    filtered_profiles.append([filtered_pressure, filtered_temperature, filtered_salinity])"
   ]
  },
  {
   "cell_type": "code",
   "execution_count": 4,
   "id": "f840f8d6",
   "metadata": {},
   "outputs": [],
   "source": [
    "# only makes sense for profiles that have levels spanning the region of interest\n",
    "\n",
    "shallow = 10\n",
    "deep = 1800\n",
    "\n",
    "# select only profiles that have measurements in the range of interest\n",
    "profiles = [f for f in filtered_profiles if f[0][0] < shallow and f[0][-1] > deep]"
   ]
  },
  {
   "cell_type": "code",
   "execution_count": 5,
   "id": "3555e43c",
   "metadata": {},
   "outputs": [],
   "source": [
    "# interpolate temperature and salinity\n",
    "\n",
    "levels = list(range(shallow,deep,5))\n",
    "\n",
    "interpolated_temperatures = np.array([list(scipy.interpolate.pchip_interpolate(p[0], p[1], levels)) for p in profiles])\n",
    "interpolated_salinity = np.array([list(scipy.interpolate.pchip_interpolate(p[0], p[2], levels)) for p in profiles])"
   ]
  },
  {
   "cell_type": "code",
   "execution_count": 6,
   "id": "258d9f94",
   "metadata": {},
   "outputs": [
    {
     "data": {
      "text/plain": [
       "(33, 358)"
      ]
     },
     "execution_count": 6,
     "metadata": {},
     "output_type": "execute_result"
    }
   ],
   "source": [
    "# transpose and cast to various rectangular forms as desired\n",
    "\n",
    "numpy.shape(interpolated_temperatures)"
   ]
  },
  {
   "cell_type": "markdown",
   "id": "3e61911a",
   "metadata": {},
   "source": [
    "### TS plot using scatter"
   ]
  },
  {
   "cell_type": "code",
   "execution_count": 7,
   "id": "413134f7",
   "metadata": {},
   "outputs": [
    {
     "data": {
      "text/plain": [
       "[<matplotlib.lines.Line2D at 0x7fc110881c10>]"
      ]
     },
     "execution_count": 7,
     "metadata": {},
     "output_type": "execute_result"
    },
    {
     "data": {
      "image/png": "[encoded data removed]",
      "text/plain": [
       "<Figure size 432x288 with 1 Axes>"
      ]
     },
     "metadata": {
      "needs_background": "light"
     },
     "output_type": "display_data"
    }
   ],
   "source": [
    "plt.plot(interpolated_salinity.flatten(),interpolated_temperatures.flatten(),marker='.',linestyle='')"
   ]
  },
  {
   "cell_type": "markdown",
   "id": "f438c937",
   "metadata": {},
   "source": [
    "### Joint PDF "
   ]
  },
  {
   "cell_type": "code",
   "execution_count": 8,
   "id": "47105d3e",
   "metadata": {},
   "outputs": [
    {
     "data": {
      "image/png": "[encoded data removed]",
      "text/plain": [
       "<Figure size 432x288 with 2 Axes>"
      ]
     },
     "metadata": {
      "needs_background": "light"
     },
     "output_type": "display_data"
    }
   ],
   "source": [
    "plt.hist2d(interpolated_salinity.flatten(),interpolated_temperatures.flatten(),density=True,\n",
    "           bins=[np.arange(34,37,.2),np.arange(0,30,1)],\n",
    "           cmin=1.e-100,cmap=cm.get_cmap('YlOrRd', 32))#'YlOrRd') #hot_r\n",
    "plt.ylabel('Temperature, degC')\n",
    "plt.xlabel('Salinity, psu')\n",
    "cbar = plt.colorbar()\n",
    "cbar.set_label('probability density')"
   ]
  },
  {
   "cell_type": "code",
   "execution_count": null,
   "id": "fb106142",
   "metadata": {},
   "outputs": [],
   "source": []
  }
 ],
 "metadata": {
  "kernelspec": {
   "display_name": "argovis_demos",
   "language": "python",
   "name": "argovis_demos"
  },
  "language_info": {
   "codemirror_mode": {
    "name": "ipython",
    "version": 3
   },
   "file_extension": ".py",
   "mimetype": "text/x-python",
   "name": "python",
   "nbconvert_exporter": "python",
   "pygments_lexer": "ipython3",
   "version": "3.9.13"
  },
  "toc": {
   "base_numbering": 1,
   "nav_menu": {},
   "number_sections": true,
   "sideBar": true,
   "skip_h1_title": false,
   "title_cell": "Table of Contents",
   "title_sidebar": "Contents",
   "toc_cell": false,
   "toc_position": {},
   "toc_section_display": true,
   "toc_window_display": false
  }
 },
 "nbformat": 4,
 "nbformat_minor": 5
}
