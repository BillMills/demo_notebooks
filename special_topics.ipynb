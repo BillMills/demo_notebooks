{
 "cells": [
  {
   "cell_type": "markdown",
   "id": "01fb1652",
   "metadata": {},
   "source": [
    "# Special topics\n",
    "\n",
    "This notebook contains some special topics and plots requested internally at Argovis. Public consumers should focus on our educational notebooks, starting with [Intro to Argovis](https://github.com/argovis/demo_notebooks/blob/main/Intro_to_Argovis.ipynb)."
   ]
  },
  {
   "cell_type": "code",
   "execution_count": 14,
   "id": "dbe3741a",
   "metadata": {},
   "outputs": [],
   "source": [
    "from argovisHelpers import helpers as avh\n",
    "import datetime, pandas, matplotlib, scipy, numpy\n",
    "import matplotlib.pyplot as plt\n",
    "import helpers\n",
    "import numpy as np\n",
    "\n",
    "API_ROOT='https://argovis-api.colorado.edu/'\n",
    "API_KEY=''"
   ]
  },
  {
   "cell_type": "code",
   "execution_count": 7,
   "id": "97a5058b",
   "metadata": {},
   "outputs": [],
   "source": [
    "# get some profiles\n",
    "\n",
    "#gulf_region = [[-95.62500000000001,27.237700025057197],[-85.51757812500001,27.938769379601297],[-85.166015625,23.506239070955658],[-95.62500000000001,21.88460897800666],[-95.62500000000001,27.237700025057197]]\n",
    "# argo = {\n",
    "#     'startDate': '2020-01-01T00:00:00Z',\n",
    "#     'endDate': '2020-01-02T00:00:00Z',\n",
    "#     'polygon': gulf_region,\n",
    "#     'data': 'temperature,salinity'\n",
    "# }\n",
    "pac_region = [[-155,-1.5],[-155,-30],[-145,-30],[-145,-1.5],[-155,-1.5]]\n",
    "argo = {\n",
    "    'startDate': '2022-12-30T00:00:00Z',\n",
    "    'endDate': '2023-01-13T00:00:00Z',\n",
    "    'polygon': pac_region,\n",
    "    'data': 'temperature,salinity'\n",
    "}\n",
    "\n",
    "floats = avh.query('argo', options=argo, apikey=API_KEY, apiroot=API_ROOT)"
   ]
  },
  {
   "cell_type": "code",
   "execution_count": 8,
   "id": "73488813",
   "metadata": {},
   "outputs": [],
   "source": [
    "# only makes sense for profiles that have levels spanning the region of interest\n",
    "\n",
    "shallow = 5\n",
    "deep = 2000\n",
    "\n",
    "profiles = [f for f in floats if \n",
    "                f['data'][f['data_info'][0].index('pressure')][0] < shallow and \n",
    "                f['data'][f['data_info'][0].index('pressure')][-1] > deep]"
   ]
  },
  {
   "cell_type": "code",
   "execution_count": 9,
   "id": "c1d2e5e4",
   "metadata": {},
   "outputs": [],
   "source": [
    "def interpolate_profile(raw, variable, levels):\n",
    "    # raw: a single argovis profile as returned from the API, including a data_info key\n",
    "    # variable: anything found in data_info[0] in the provided profile; the variable to interpolate\n",
    "    # levels: the standard levels to interp to.\n",
    "    \n",
    "    # extract pressure and the variable to interpolate\n",
    "    var_idx = raw['data_info'][0].index(variable)\n",
    "    pressure_idx = raw['data_info'][0].index('pressure')\n",
    "    var = raw['data'][var_idx]\n",
    "    pressure = raw['data'][pressure_idx]\n",
    "    \n",
    "    return list(scipy.interpolate.pchip_interpolate(pressure, var, levels))"
   ]
  },
  {
   "cell_type": "code",
   "execution_count": 15,
   "id": "177a6251",
   "metadata": {},
   "outputs": [],
   "source": [
    "# interpolate temperature and salinity\n",
    "\n",
    "levels = list(range(shallow,deep,5))\n",
    "\n",
    "interpolated_temperatures = np.array([interpolate_profile(f, 'temperature', levels) for f in profiles])\n",
    "interpolated_salinity = np.array([interpolate_profile(f, 'salinity', levels) for f in profiles])"
   ]
  },
  {
   "cell_type": "code",
   "execution_count": 16,
   "id": "67f1a3e5",
   "metadata": {},
   "outputs": [
    {
     "data": {
      "text/plain": [
       "(19, 399)"
      ]
     },
     "execution_count": 16,
     "metadata": {},
     "output_type": "execute_result"
    }
   ],
   "source": [
    "# transpose and cast to various rectangular forms as desired\n",
    "\n",
    "numpy.shape(interpolated_temperatures)"
   ]
  },
  {
   "cell_type": "code",
   "execution_count": 38,
   "id": "67621f9c",
   "metadata": {},
   "outputs": [
    {
     "data": {
      "text/plain": [
       "<matplotlib.colorbar.Colorbar at 0x7fd01a7eb160>"
      ]
     },
     "execution_count": 38,
     "metadata": {},
     "output_type": "execute_result"
    },
    {
     "data": {
      "image/png": "[encoded data removed]",
      "text/plain": [
       "<Figure size 432x288 with 2 Axes>"
      ]
     },
     "metadata": {
      "needs_background": "light"
     },
     "output_type": "display_data"
    }
   ],
   "source": [
    "plt.hist2d(interpolated_salinity.flatten(),interpolated_temperatures.flatten(),density=True,\n",
    "           bins=[np.arange(34,36.5,.05),np.arange(0,30,.2)],cmap='YlOrRd') #hot_r\n",
    "plt.colorbar()"
   ]
  },
  {
   "cell_type": "code",
   "execution_count": null,
   "id": "443f87c8",
   "metadata": {},
   "outputs": [],
   "source": []
  }
 ],
 "metadata": {
  "kernelspec": {
   "display_name": "argovis_demos",
   "language": "python",
   "name": "argovis_demos"
  },
  "language_info": {
   "codemirror_mode": {
    "name": "ipython",
    "version": 3
   },
   "file_extension": ".py",
   "mimetype": "text/x-python",
   "name": "python",
   "nbconvert_exporter": "python",
   "pygments_lexer": "ipython3",
   "version": "3.9.13"
  },
  "toc": {
   "base_numbering": 1,
   "nav_menu": {},
   "number_sections": true,
   "sideBar": true,
   "skip_h1_title": false,
   "title_cell": "Table of Contents",
   "title_sidebar": "Contents",
   "toc_cell": false,
   "toc_position": {},
   "toc_section_display": true,
   "toc_window_display": false
  }
 },
 "nbformat": 4,
 "nbformat_minor": 5
}
