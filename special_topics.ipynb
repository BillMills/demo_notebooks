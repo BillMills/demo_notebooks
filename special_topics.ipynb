{
 "cells": [
  {
   "cell_type": "markdown",
   "id": "bc9afc7f",
   "metadata": {},
   "source": [
    "# Special topics\n",
    "\n",
    "This notebook contains some special topics and plots requested internally at Argovis. Public consumers should focus on our educational notebooks, starting with [Intro to Argovis](https://github.com/argovis/demo_notebooks/blob/main/Intro_to_Argovis.ipynb)."
   ]
  },
  {
   "cell_type": "code",
   "execution_count": 1,
   "id": "29b635d9",
   "metadata": {},
   "outputs": [],
   "source": [
    "from argovisHelpers import helpers as avh\n",
    "import datetime, pandas, matplotlib, scipy, numpy\n",
    "import matplotlib.pyplot as plt\n",
    "import helpers\n",
    "import numpy as np\n",
    "\n",
    "API_ROOT='https://argovis-api.colorado.edu/'\n",
    "API_KEY=''"
   ]
  },
  {
   "cell_type": "code",
   "execution_count": 2,
   "id": "ed656e1f",
   "metadata": {},
   "outputs": [],
   "source": [
    "# get some profiles\n",
    "\n",
    "#gulf_region = [[-95.62500000000001,27.237700025057197],[-85.51757812500001,27.938769379601297],[-85.166015625,23.506239070955658],[-95.62500000000001,21.88460897800666],[-95.62500000000001,27.237700025057197]]\n",
    "# argo = {\n",
    "#     'startDate': '2020-01-01T00:00:00Z',\n",
    "#     'endDate': '2020-01-02T00:00:00Z',\n",
    "#     'polygon': gulf_region,\n",
    "#     'data': 'temperature,salinity'\n",
    "# }\n",
    "pac_region = [[-155,-1.5],[-155,-30],[-145,-30],[-145,-1.5],[-155,-1.5]]\n",
    "argo = {\n",
    "    'startDate': '2022-12-30T00:00:00Z',\n",
    "    'endDate': '2023-01-13T00:00:00Z',\n",
    "    'polygon': pac_region,\n",
    "    'data': 'temperature,salinity'\n",
    "} # querying only profiles that have both temperature and salinity\n",
    "\n",
    "floats = avh.query('argo', options=argo, apikey=API_KEY, apiroot=API_ROOT)"
   ]
  },
  {
   "cell_type": "code",
   "execution_count": 5,
   "id": "ced14fd2",
   "metadata": {},
   "outputs": [
    {
     "data": {
      "text/plain": [
       "(51,)"
      ]
     },
     "execution_count": 5,
     "metadata": {},
     "output_type": "execute_result"
    }
   ],
   "source": [
    "# let's select only levels that have a valid T and S"
   ]
  },
  {
   "cell_type": "code",
   "execution_count": 6,
   "id": "cc955146",
   "metadata": {},
   "outputs": [],
   "source": [
    "# only makes sense for profiles that have levels spanning the region of interest\n",
    "\n",
    "shallow = 10\n",
    "deep = 1800\n",
    "\n",
    "# select only profiles that have measurements in the range of interest\n",
    "profiles = [f for f in floats if \n",
    "                f['data'][f['data_info'][0].index('pressure')][0] < shallow and \n",
    "                f['data'][f['data_info'][0].index('pressure')][-1] > deep]"
   ]
  },
  {
   "cell_type": "code",
   "execution_count": 7,
   "id": "e96f4a03",
   "metadata": {},
   "outputs": [
    {
     "data": {
      "text/plain": [
       "(39,)"
      ]
     },
     "execution_count": 7,
     "metadata": {},
     "output_type": "execute_result"
    }
   ],
   "source": [
    "np.shape(profiles)"
   ]
  },
  {
   "cell_type": "code",
   "execution_count": 8,
   "id": "65228792",
   "metadata": {},
   "outputs": [],
   "source": [
    "def interpolate_profile(raw, variable, levels):\n",
    "    # raw: a single argovis profile as returned from the API, including a data_info key\n",
    "    # variable: anything found in data_info[0] in the provided profile; the variable to interpolate\n",
    "    # levels: the standard levels to interp to.\n",
    "    \n",
    "    # extract pressure and the variable to interpolate\n",
    "    var_idx = raw['data_info'][0].index(variable)\n",
    "    pressure_idx = raw['data_info'][0].index('pressure')\n",
    "    var = raw['data'][var_idx]\n",
    "    pressure = raw['data'][pressure_idx]\n",
    "    \n",
    "    return list(scipy.interpolate.pchip_interpolate(pressure, var, levels))"
   ]
  },
  {
   "cell_type": "code",
   "execution_count": 9,
   "id": "5ec4e16c",
   "metadata": {},
   "outputs": [
    {
     "ename": "ValueError",
     "evalue": "`y` must contain only finite values.",
     "output_type": "error",
     "traceback": [
      "\u001b[0;31m---------------------------------------------------------------------------\u001b[0m",
      "\u001b[0;31mValueError\u001b[0m                                Traceback (most recent call last)",
      "Input \u001b[0;32mIn [9]\u001b[0m, in \u001b[0;36m<cell line: 6>\u001b[0;34m()\u001b[0m\n\u001b[1;32m      3\u001b[0m levels \u001b[38;5;241m=\u001b[39m \u001b[38;5;28mlist\u001b[39m(\u001b[38;5;28mrange\u001b[39m(shallow,deep,\u001b[38;5;241m5\u001b[39m))\n\u001b[1;32m      5\u001b[0m interpolated_temperatures \u001b[38;5;241m=\u001b[39m np\u001b[38;5;241m.\u001b[39marray([interpolate_profile(f, \u001b[38;5;124m'\u001b[39m\u001b[38;5;124mtemperature\u001b[39m\u001b[38;5;124m'\u001b[39m, levels) \u001b[38;5;28;01mfor\u001b[39;00m f \u001b[38;5;129;01min\u001b[39;00m profiles])\n\u001b[0;32m----> 6\u001b[0m interpolated_salinity \u001b[38;5;241m=\u001b[39m np\u001b[38;5;241m.\u001b[39marray([interpolate_profile(f, \u001b[38;5;124m'\u001b[39m\u001b[38;5;124msalinity\u001b[39m\u001b[38;5;124m'\u001b[39m, levels) \u001b[38;5;28;01mfor\u001b[39;00m f \u001b[38;5;129;01min\u001b[39;00m profiles])\n",
      "Input \u001b[0;32mIn [9]\u001b[0m, in \u001b[0;36m<listcomp>\u001b[0;34m(.0)\u001b[0m\n\u001b[1;32m      3\u001b[0m levels \u001b[38;5;241m=\u001b[39m \u001b[38;5;28mlist\u001b[39m(\u001b[38;5;28mrange\u001b[39m(shallow,deep,\u001b[38;5;241m5\u001b[39m))\n\u001b[1;32m      5\u001b[0m interpolated_temperatures \u001b[38;5;241m=\u001b[39m np\u001b[38;5;241m.\u001b[39marray([interpolate_profile(f, \u001b[38;5;124m'\u001b[39m\u001b[38;5;124mtemperature\u001b[39m\u001b[38;5;124m'\u001b[39m, levels) \u001b[38;5;28;01mfor\u001b[39;00m f \u001b[38;5;129;01min\u001b[39;00m profiles])\n\u001b[0;32m----> 6\u001b[0m interpolated_salinity \u001b[38;5;241m=\u001b[39m np\u001b[38;5;241m.\u001b[39marray([\u001b[43minterpolate_profile\u001b[49m\u001b[43m(\u001b[49m\u001b[43mf\u001b[49m\u001b[43m,\u001b[49m\u001b[43m \u001b[49m\u001b[38;5;124;43m'\u001b[39;49m\u001b[38;5;124;43msalinity\u001b[39;49m\u001b[38;5;124;43m'\u001b[39;49m\u001b[43m,\u001b[49m\u001b[43m \u001b[49m\u001b[43mlevels\u001b[49m\u001b[43m)\u001b[49m \u001b[38;5;28;01mfor\u001b[39;00m f \u001b[38;5;129;01min\u001b[39;00m profiles])\n",
      "Input \u001b[0;32mIn [8]\u001b[0m, in \u001b[0;36minterpolate_profile\u001b[0;34m(raw, variable, levels)\u001b[0m\n\u001b[1;32m      9\u001b[0m var \u001b[38;5;241m=\u001b[39m raw[\u001b[38;5;124m'\u001b[39m\u001b[38;5;124mdata\u001b[39m\u001b[38;5;124m'\u001b[39m][var_idx]\n\u001b[1;32m     10\u001b[0m pressure \u001b[38;5;241m=\u001b[39m raw[\u001b[38;5;124m'\u001b[39m\u001b[38;5;124mdata\u001b[39m\u001b[38;5;124m'\u001b[39m][pressure_idx]\n\u001b[0;32m---> 12\u001b[0m \u001b[38;5;28;01mreturn\u001b[39;00m \u001b[38;5;28mlist\u001b[39m(\u001b[43mscipy\u001b[49m\u001b[38;5;241;43m.\u001b[39;49m\u001b[43minterpolate\u001b[49m\u001b[38;5;241;43m.\u001b[39;49m\u001b[43mpchip_interpolate\u001b[49m\u001b[43m(\u001b[49m\u001b[43mpressure\u001b[49m\u001b[43m,\u001b[49m\u001b[43m \u001b[49m\u001b[43mvar\u001b[49m\u001b[43m,\u001b[49m\u001b[43m \u001b[49m\u001b[43mlevels\u001b[49m\u001b[43m)\u001b[49m)\n",
      "File \u001b[0;32m~/opt/miniconda3/envs/argovis_demos/lib/python3.9/site-packages/scipy/interpolate/_cubic.py:354\u001b[0m, in \u001b[0;36mpchip_interpolate\u001b[0;34m(xi, yi, x, der, axis)\u001b[0m\n\u001b[1;32m    303\u001b[0m \u001b[38;5;28;01mdef\u001b[39;00m \u001b[38;5;21mpchip_interpolate\u001b[39m(xi, yi, x, der\u001b[38;5;241m=\u001b[39m\u001b[38;5;241m0\u001b[39m, axis\u001b[38;5;241m=\u001b[39m\u001b[38;5;241m0\u001b[39m):\n\u001b[1;32m    304\u001b[0m     \u001b[38;5;124;03m\"\"\"\u001b[39;00m\n\u001b[1;32m    305\u001b[0m \u001b[38;5;124;03m    Convenience function for pchip interpolation.\u001b[39;00m\n\u001b[1;32m    306\u001b[0m \n\u001b[0;32m   (...)\u001b[0m\n\u001b[1;32m    352\u001b[0m \n\u001b[1;32m    353\u001b[0m \u001b[38;5;124;03m    \"\"\"\u001b[39;00m\n\u001b[0;32m--> 354\u001b[0m     P \u001b[38;5;241m=\u001b[39m \u001b[43mPchipInterpolator\u001b[49m\u001b[43m(\u001b[49m\u001b[43mxi\u001b[49m\u001b[43m,\u001b[49m\u001b[43m \u001b[49m\u001b[43myi\u001b[49m\u001b[43m,\u001b[49m\u001b[43m \u001b[49m\u001b[43maxis\u001b[49m\u001b[38;5;241;43m=\u001b[39;49m\u001b[43maxis\u001b[49m\u001b[43m)\u001b[49m\n\u001b[1;32m    356\u001b[0m     \u001b[38;5;28;01mif\u001b[39;00m der \u001b[38;5;241m==\u001b[39m \u001b[38;5;241m0\u001b[39m:\n\u001b[1;32m    357\u001b[0m         \u001b[38;5;28;01mreturn\u001b[39;00m P(x)\n",
      "File \u001b[0;32m~/opt/miniconda3/envs/argovis_demos/lib/python3.9/site-packages/scipy/interpolate/_cubic.py:232\u001b[0m, in \u001b[0;36mPchipInterpolator.__init__\u001b[0;34m(self, x, y, axis, extrapolate)\u001b[0m\n\u001b[1;32m    231\u001b[0m \u001b[38;5;28;01mdef\u001b[39;00m \u001b[38;5;21m__init__\u001b[39m(\u001b[38;5;28mself\u001b[39m, x, y, axis\u001b[38;5;241m=\u001b[39m\u001b[38;5;241m0\u001b[39m, extrapolate\u001b[38;5;241m=\u001b[39m\u001b[38;5;28;01mNone\u001b[39;00m):\n\u001b[0;32m--> 232\u001b[0m     x, _, y, axis, _ \u001b[38;5;241m=\u001b[39m \u001b[43mprepare_input\u001b[49m\u001b[43m(\u001b[49m\u001b[43mx\u001b[49m\u001b[43m,\u001b[49m\u001b[43m \u001b[49m\u001b[43my\u001b[49m\u001b[43m,\u001b[49m\u001b[43m \u001b[49m\u001b[43maxis\u001b[49m\u001b[43m)\u001b[49m\n\u001b[1;32m    233\u001b[0m     xp \u001b[38;5;241m=\u001b[39m x\u001b[38;5;241m.\u001b[39mreshape((x\u001b[38;5;241m.\u001b[39mshape[\u001b[38;5;241m0\u001b[39m],) \u001b[38;5;241m+\u001b[39m (\u001b[38;5;241m1\u001b[39m,)\u001b[38;5;241m*\u001b[39m(y\u001b[38;5;241m.\u001b[39mndim\u001b[38;5;241m-\u001b[39m\u001b[38;5;241m1\u001b[39m))\n\u001b[1;32m    234\u001b[0m     dk \u001b[38;5;241m=\u001b[39m \u001b[38;5;28mself\u001b[39m\u001b[38;5;241m.\u001b[39m_find_derivatives(xp, y)\n",
      "File \u001b[0;32m~/opt/miniconda3/envs/argovis_demos/lib/python3.9/site-packages/scipy/interpolate/_cubic.py:54\u001b[0m, in \u001b[0;36mprepare_input\u001b[0;34m(x, y, axis, dydx)\u001b[0m\n\u001b[1;32m     52\u001b[0m     \u001b[38;5;28;01mraise\u001b[39;00m \u001b[38;5;167;01mValueError\u001b[39;00m(\u001b[38;5;124m\"\u001b[39m\u001b[38;5;124m`x` must contain only finite values.\u001b[39m\u001b[38;5;124m\"\u001b[39m)\n\u001b[1;32m     53\u001b[0m \u001b[38;5;28;01mif\u001b[39;00m \u001b[38;5;129;01mnot\u001b[39;00m np\u001b[38;5;241m.\u001b[39mall(np\u001b[38;5;241m.\u001b[39misfinite(y)):\n\u001b[0;32m---> 54\u001b[0m     \u001b[38;5;28;01mraise\u001b[39;00m \u001b[38;5;167;01mValueError\u001b[39;00m(\u001b[38;5;124m\"\u001b[39m\u001b[38;5;124m`y` must contain only finite values.\u001b[39m\u001b[38;5;124m\"\u001b[39m)\n\u001b[1;32m     56\u001b[0m \u001b[38;5;28;01mif\u001b[39;00m dydx \u001b[38;5;129;01mis\u001b[39;00m \u001b[38;5;129;01mnot\u001b[39;00m \u001b[38;5;28;01mNone\u001b[39;00m \u001b[38;5;129;01mand\u001b[39;00m \u001b[38;5;129;01mnot\u001b[39;00m np\u001b[38;5;241m.\u001b[39mall(np\u001b[38;5;241m.\u001b[39misfinite(dydx)):\n\u001b[1;32m     57\u001b[0m     \u001b[38;5;28;01mraise\u001b[39;00m \u001b[38;5;167;01mValueError\u001b[39;00m(\u001b[38;5;124m\"\u001b[39m\u001b[38;5;124m`dydx` must contain only finite values.\u001b[39m\u001b[38;5;124m\"\u001b[39m)\n",
      "\u001b[0;31mValueError\u001b[0m: `y` must contain only finite values."
     ]
    }
   ],
   "source": [
    "# interpolate temperature and salinity\n",
    "\n",
    "levels = list(range(shallow,deep,5))\n",
    "\n",
    "interpolated_temperatures = np.array([interpolate_profile(f, 'temperature', levels) for f in profiles])\n",
    "interpolated_salinity = np.array([interpolate_profile(f, 'salinity', levels) for f in profiles])"
   ]
  },
  {
   "cell_type": "code",
   "execution_count": null,
   "id": "fdb06e76",
   "metadata": {},
   "outputs": [],
   "source": [
    "# transpose and cast to various rectangular forms as desired\n",
    "\n",
    "numpy.shape(interpolated_temperatures)"
   ]
  },
  {
   "cell_type": "code",
   "execution_count": null,
   "id": "664679a5",
   "metadata": {},
   "outputs": [],
   "source": [
    "plt.hist2d(interpolated_salinity.flatten(),interpolated_temperatures.flatten(),density=True,\n",
    "           bins=[np.arange(34,36.5,.05),np.arange(0,30,.2)],cmap='YlOrRd') #hot_r\n",
    "plt.colorbar()"
   ]
  },
  {
   "cell_type": "code",
   "execution_count": null,
   "id": "6c8dbcd1",
   "metadata": {},
   "outputs": [],
   "source": []
  }
 ],
 "metadata": {
  "kernelspec": {
   "display_name": "argovis_demos",
   "language": "python",
   "name": "argovis_demos"
  },
  "language_info": {
   "codemirror_mode": {
    "name": "ipython",
    "version": 3
   },
   "file_extension": ".py",
   "mimetype": "text/x-python",
   "name": "python",
   "nbconvert_exporter": "python",
   "pygments_lexer": "ipython3",
   "version": "3.9.13"
  },
  "toc": {
   "base_numbering": 1,
   "nav_menu": {},
   "number_sections": true,
   "sideBar": true,
   "skip_h1_title": false,
   "title_cell": "Table of Contents",
   "title_sidebar": "Contents",
   "toc_cell": false,
   "toc_position": {},
   "toc_section_display": true,
   "toc_window_display": false
  }
 },
 "nbformat": 4,
 "nbformat_minor": 5
}
