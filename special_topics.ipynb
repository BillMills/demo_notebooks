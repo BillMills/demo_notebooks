{
 "cells": [
  {
   "cell_type": "markdown",
   "id": "1fb8ca6c",
   "metadata": {},
   "source": [
    "# Special topics\n",
    "\n",
    "This notebook contains some special topics and plots requested internally at Argovis. Public consumers should focus on our educational notebooks, starting with [Intro to Argovis](https://github.com/argovis/demo_notebooks/blob/main/Intro_to_Argovis.ipynb)."
   ]
  },
  {
   "cell_type": "code",
   "execution_count": 1,
   "id": "4cac578f",
   "metadata": {},
   "outputs": [],
   "source": [
    "from argovisHelpers import helpers as avh\n",
    "import datetime, pandas, matplotlib, scipy, numpy\n",
    "import matplotlib.pyplot as plt\n",
    "import helpers\n",
    "\n",
    "API_ROOT='https://argovis-api.colorado.edu/'\n",
    "API_KEY=''"
   ]
  },
  {
   "cell_type": "code",
   "execution_count": 24,
   "id": "c8df40e1",
   "metadata": {},
   "outputs": [],
   "source": [
    "# get some profiles\n",
    "\n",
    "gulf_region = [[-95.62500000000001,27.237700025057197],[-85.51757812500001,27.938769379601297],[-85.166015625,23.506239070955658],[-95.62500000000001,21.88460897800666],[-95.62500000000001,27.237700025057197]]\n",
    "argo = {\n",
    "    'startDate': '2020-01-01T00:00:00Z',\n",
    "    'endDate': '2020-01-02T00:00:00Z',\n",
    "    'polygon': gulf_region,\n",
    "    'data': 'temperature,salinity'\n",
    "}\n",
    "\n",
    "floats = avh.query('argo', options=argo, apikey=API_KEY, apiroot=API_ROOT)"
   ]
  },
  {
   "cell_type": "code",
   "execution_count": 59,
   "id": "9bcfc000",
   "metadata": {},
   "outputs": [],
   "source": [
    "# only makes sense for profiles that have levels spanning the region of interest\n",
    "\n",
    "shallow = 5\n",
    "deep = 2000\n",
    "\n",
    "profiles = [f for f in floats if \n",
    "                f['data'][f['data_info'][0].index('pressure')][0] < shallow and \n",
    "                f['data'][f['data_info'][0].index('pressure')][-1] > deep]"
   ]
  },
  {
   "cell_type": "code",
   "execution_count": 62,
   "id": "b7741dbf",
   "metadata": {},
   "outputs": [],
   "source": [
    "def interpolate_profile(raw, variable, levels):\n",
    "    # raw: a single argovis profile as returned from the API, including a data_info key\n",
    "    # variable: anything found in data_info[0] in the provided profile; the variable to interpolate\n",
    "    # levels: the standard levels to interp to.\n",
    "    \n",
    "    # extract pressure and the variable to interpolate\n",
    "    var_idx = raw['data_info'][0].index(variable)\n",
    "    pressure_idx = raw['data_info'][0].index('pressure')\n",
    "    var = raw['data'][var_idx]\n",
    "    pressure = raw['data'][pressure_idx]\n",
    "    \n",
    "    return list(scipy.interpolate.pchip_interpolate(pressure, var, levels))"
   ]
  },
  {
   "cell_type": "code",
   "execution_count": 63,
   "id": "f694dcad",
   "metadata": {},
   "outputs": [],
   "source": [
    "# interpolate temperature and salinity\n",
    "\n",
    "levels = list(range(shallow,deep,5))\n",
    "\n",
    "interpolated_temperatures = [interpolate_profile(f, 'temperature', levels) for f in profiles]\n",
    "interpolated_salinity = [interpolate_profile(f, 'salinity', levels) for f in profiles]"
   ]
  },
  {
   "cell_type": "code",
   "execution_count": 64,
   "id": "80ebd592",
   "metadata": {},
   "outputs": [
    {
     "data": {
      "text/plain": [
       "(3, 399)"
      ]
     },
     "execution_count": 64,
     "metadata": {},
     "output_type": "execute_result"
    }
   ],
   "source": [
    "# transpose and cast to various rectangular forms as desired\n",
    "\n",
    "numpy.shape(interpolated_temperatures)"
   ]
  },
  {
   "cell_type": "code",
   "execution_count": null,
   "id": "34dbaa8c",
   "metadata": {},
   "outputs": [],
   "source": []
  }
 ],
 "metadata": {
  "kernelspec": {
   "display_name": "argovis_demos",
   "language": "python",
   "name": "argovis_demos"
  },
  "language_info": {
   "codemirror_mode": {
    "name": "ipython",
    "version": 3
   },
   "file_extension": ".py",
   "mimetype": "text/x-python",
   "name": "python",
   "nbconvert_exporter": "python",
   "pygments_lexer": "ipython3",
   "version": "3.9.12"
  },
  "toc": {
   "base_numbering": 1,
   "nav_menu": {},
   "number_sections": true,
   "sideBar": true,
   "skip_h1_title": false,
   "title_cell": "Table of Contents",
   "title_sidebar": "Contents",
   "toc_cell": false,
   "toc_position": {},
   "toc_section_display": true,
   "toc_window_display": false
  }
 },
 "nbformat": 4,
 "nbformat_minor": 5
}
