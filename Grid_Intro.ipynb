{
 "cells": [
  {
   "cell_type": "markdown",
   "id": "17eee2e9",
   "metadata": {},
   "source": [
    "# Intro to Argovis' Grid API"
   ]
  },
  {
   "cell_type": "markdown",
   "id": "6dee15b4",
   "metadata": {},
   "source": [
    "Argovis offers a growing list of gridded products, indexed and downloadable through its API. In this notebook, we'll illustrate some basic operations and handling of this data."
   ]
  },
  {
   "cell_type": "markdown",
   "id": "41940241",
   "metadata": {},
   "source": [
    "> **This is a beta product!**\n",
    "> Argovis' new API is currently undergoing heavy development. Therefore, everything in these notebooks should be understood as a technical preview only; implementation details may change before a \n",
    "stable release is made. Please send feedback and ideas to argovis@colorado.edu, and see the API docs as they evolve at https://argovis-api.colorado.edu/docs/."
   ]
  },
  {
   "cell_type": "markdown",
   "id": "7da132a2",
   "metadata": {},
   "source": [
    "## Setup\n",
    "\n",
    "In addition to importing a few python packages, make sure to plug in your Argovis API key for `API_KEY` in the next cell. If you don't have a free Argovis API key yet, get one at https://argovis-keygen.colorado.edu/."
   ]
  },
  {
   "cell_type": "code",
   "execution_count": 1,
   "id": "71f28823",
   "metadata": {},
   "outputs": [],
   "source": [
    "import requests, xarray, pandas, math, datetime, copy\n",
    "import numpy as np\n",
    "from datetime import datetime, timedelta\n",
    "from argovisHelpers import helpers as avh\n",
    "\n",
    "API_KEY=''\n",
    "API_PREFIX = 'https://argovis-api.colorado.edu/'"
   ]
  },
  {
   "cell_type": "markdown",
   "id": "857ca684",
   "metadata": {},
   "source": [
    "## Downloading Gridded Data"
   ]
  },
  {
   "cell_type": "markdown",
   "id": "6da97747",
   "metadata": {},
   "source": [
    "Argovis supports a number of grids through the same API endpoints. Let's begin by discovering what grids are available:"
   ]
  },
  {
   "cell_type": "code",
   "execution_count": 2,
   "id": "e9e8c5e0",
   "metadata": {},
   "outputs": [
    {
     "data": {
      "text/plain": [
       "['ohc_kg', 'salinity_rg', 'temperature_rg']"
      ]
     },
     "execution_count": 2,
     "metadata": {},
     "output_type": "execute_result"
    }
   ],
   "source": [
    "grids = avh.query('grids/vocabulary', options={'parameter':'data_keys'}, apikey=API_KEY, apiroot=API_PREFIX)\n",
    "grids"
   ]
  },
  {
   "cell_type": "markdown",
   "id": "2f1203b8",
   "metadata": {},
   "source": [
    "We get a list of grid names from the `/grids/vocabulary` route. We can query data from any one of these via the `/grids/{gridName}` route, and the usual temporospatial parameters that may be familiar from other Argovis APIs:\n",
    "\n",
    " - `startDate` (geo-constrained, see below, format YYYY-MM-DDTHH:MM:SSZ at GMT0): beginning of time window to query.\n",
    " - `endDate` (geo-constrained, see below, format YYYY-MM-DDTHH:MM:SSZ at GMT0): end of time window to query.\n",
    " - `polygon` (geo-constrained, see below, format [[lon0,lat0],[lon1,lat1],...,[lonN,latN],[lon0,lat0]]): geographical region to query.\n",
    " - `multipolygon` (geo-constrained, see below, format as a list of `polygon`s): query the geographical region at the intersection of *all* listed polygons.\n",
    " - `center` + `radius` (geo-constrained, see below, center format lon,lat ; raidus format distance in km): geographical region to query, defined as maximum distance (radius) from a point (center).\n",
    " - `presRange` (optional, format shallowlimit,deeplimit): only return levels between the limits specified, in dbar.\n",
    " - `data` (optional, format comma separated list of keys): request the actual measurements to go with matched documents.\n",
    " \n",
    "**Items marked 'geo-constrained'** are individually optional, but have soft limits based on estimates of how much data they will return. If you need to query a large area, consider making requests over a short timespan; or vice versa.\n",
    "\n",
    "Let's try a simple request to download a piece of data from one of these grids, the North Atlantic from the first quarter of 2012 from the Roemmich-Gilson Argo temperature climatology. For gridded data, the `data` key, when used, always matches the grid name in the route."
   ]
  },
  {
   "cell_type": "code",
   "execution_count": 3,
   "id": "f1b64563",
   "metadata": {},
   "outputs": [],
   "source": [
    "params = {\n",
    "  \"startDate\": '2012-01-01T00:00:00Z',\n",
    "  \"endDate\": '2012-04-01T00:00:00Z',\n",
    "  \"polygon\": '[[-49.92187499999999,56.17002298293205],[-48.1640625,49.61070993807422],[-56.6015625,42.5530802889558],[-72.421875,35.746512259918504],[-72.421875,27.059125784374068],[-47.4609375,26.115985925333536],[-19.6875,27.371767300523047],[-12.65625,36.59788913307022],[-11.6015625,46.558860303117164],[-13.0078125,56.75272287205736],[-49.92187499999999,56.17002298293205]]',\n",
    "  \"data\": 'temperature_rg'\n",
    "}\n",
    "\n",
    "rgdata = avh.query('grids/temperature_rg', options=params, apikey=API_KEY, apiroot=API_PREFIX)"
   ]
  },
  {
   "cell_type": "markdown",
   "id": "a994a4a8",
   "metadata": {},
   "source": [
    "(If you need help constructing a polygon, try the following:\n",
    "\n",
    "  - visit argovis.colorado.edu\n",
    "  - draw a shape\n",
    "  - click on the purple shaded area of the region of interest (not on a dot)\n",
    "  - from the pop up window, go \"to Selection page\"\n",
    "  - from the url of the selection shape, copy the shape, i.e. [copy_all_this_inside_outer_brackets] after 'shape=')\n",
    "\n",
    "\n",
    "Like most Argovis API requests, you get a list of documents matching your query. Let's have a look at the first record in what the API returned to us:"
   ]
  },
  {
   "cell_type": "code",
   "execution_count": 4,
   "id": "2172366a",
   "metadata": {},
   "outputs": [
    {
     "data": {
      "text/plain": [
       "{'_id': '20120315000000_-67.5_27.5',\n",
       " 'metadata': 'temperature_rg_200401_Total',\n",
       " 'geolocation': {'type': 'Point', 'coordinates': [-67.5, 27.5]},\n",
       " 'basin': 1,\n",
       " 'timestamp': '2012-03-15T00:00:00.000Z',\n",
       " 'data': [{'temperature_rg': 22.513},\n",
       "  {'temperature_rg': 22.505001},\n",
       "  {'temperature_rg': 22.532},\n",
       "  {'temperature_rg': 22.517},\n",
       "  {'temperature_rg': 22.469},\n",
       "  {'temperature_rg': 22.427},\n",
       "  {'temperature_rg': 22.407},\n",
       "  {'temperature_rg': 22.358},\n",
       "  {'temperature_rg': 22.219999},\n",
       "  {'temperature_rg': 22.004},\n",
       "  {'temperature_rg': 21.593},\n",
       "  {'temperature_rg': 21.268999},\n",
       "  {'temperature_rg': 21.033001},\n",
       "  {'temperature_rg': 20.812},\n",
       "  {'temperature_rg': 20.59},\n",
       "  {'temperature_rg': 20.314001},\n",
       "  {'temperature_rg': 20.013},\n",
       "  {'temperature_rg': 19.764999},\n",
       "  {'temperature_rg': 19.486},\n",
       "  {'temperature_rg': 19.150999},\n",
       "  {'temperature_rg': 18.974001},\n",
       "  {'temperature_rg': 18.832001},\n",
       "  {'temperature_rg': 18.692999},\n",
       "  {'temperature_rg': 18.552},\n",
       "  {'temperature_rg': 18.423},\n",
       "  {'temperature_rg': 18.323},\n",
       "  {'temperature_rg': 18.219},\n",
       "  {'temperature_rg': 18.105999},\n",
       "  {'temperature_rg': 17.993},\n",
       "  {'temperature_rg': 17.875},\n",
       "  {'temperature_rg': 17.726},\n",
       "  {'temperature_rg': 17.561001},\n",
       "  {'temperature_rg': 17.337},\n",
       "  {'temperature_rg': 16.910999},\n",
       "  {'temperature_rg': 16.209999},\n",
       "  {'temperature_rg': 15.365},\n",
       "  {'temperature_rg': 14.434999},\n",
       "  {'temperature_rg': 13.397},\n",
       "  {'temperature_rg': 12.301},\n",
       "  {'temperature_rg': 11.073},\n",
       "  {'temperature_rg': 9.86},\n",
       "  {'temperature_rg': 8.798},\n",
       "  {'temperature_rg': 7.939},\n",
       "  {'temperature_rg': 7.338},\n",
       "  {'temperature_rg': 6.793},\n",
       "  {'temperature_rg': 6.306},\n",
       "  {'temperature_rg': 5.925},\n",
       "  {'temperature_rg': 5.635},\n",
       "  {'temperature_rg': 5.396},\n",
       "  {'temperature_rg': 5.174},\n",
       "  {'temperature_rg': 5.001},\n",
       "  {'temperature_rg': 4.813},\n",
       "  {'temperature_rg': 4.606},\n",
       "  {'temperature_rg': 4.401},\n",
       "  {'temperature_rg': 4.16},\n",
       "  {'temperature_rg': 3.969},\n",
       "  {'temperature_rg': 3.826},\n",
       "  {'temperature_rg': 3.699}],\n",
       " 'data_keys': ['temperature_rg'],\n",
       " 'units': {'temperature_rg': 'degree celcius (ITS-90)'}}"
      ]
     },
     "execution_count": 4,
     "metadata": {},
     "output_type": "execute_result"
    }
   ],
   "source": [
    "rgdata[0]"
   ]
  },
  {
   "cell_type": "markdown",
   "id": "6988efed",
   "metadata": {},
   "source": [
    "By default, Argovis returns gridded data in a *profile-like* structure, with a schema similar to other Argovis APIs. Data is presented in the `data` key, with units for each key presented in the `units` property. Since a grid reports values at regular depths, those depths are reported in the metdata document associated with each grid profile in order to avoid trasmitting them over and over for default requests like this. We can look them up using the `/grids/metadata` route and the `metadata` key from the document in question:"
   ]
  },
  {
   "cell_type": "code",
   "execution_count": 5,
   "id": "0346cb28",
   "metadata": {},
   "outputs": [
    {
     "data": {
      "text/plain": [
       "[{'_id': 'temperature_rg_200401_Total',\n",
       "  'data_type': 'temperature',\n",
       "  'data_keys': ['temperature_rg'],\n",
       "  'units': ['degree celcius (ITS-90)'],\n",
       "  'date_updated_argovis': '2022-07-14T23:04:56.394Z',\n",
       "  'source': [{'source': ['Roemmich-Gilson Argo Climatology'],\n",
       "    'url': 'https://sio-argo.ucsd.edu/gilson/argo_climatology/RG_ArgoClim_Temperature_2019.nc.gz'}],\n",
       "  'levels': [2.5,\n",
       "   10,\n",
       "   20,\n",
       "   30,\n",
       "   40,\n",
       "   50,\n",
       "   60,\n",
       "   70,\n",
       "   80,\n",
       "   90,\n",
       "   100,\n",
       "   110,\n",
       "   120,\n",
       "   130,\n",
       "   140,\n",
       "   150,\n",
       "   160,\n",
       "   170,\n",
       "   182.5,\n",
       "   200,\n",
       "   220,\n",
       "   240,\n",
       "   260,\n",
       "   280,\n",
       "   300,\n",
       "   320,\n",
       "   340,\n",
       "   360,\n",
       "   380,\n",
       "   400,\n",
       "   420,\n",
       "   440,\n",
       "   462.5,\n",
       "   500,\n",
       "   550,\n",
       "   600,\n",
       "   650,\n",
       "   700,\n",
       "   750,\n",
       "   800,\n",
       "   850,\n",
       "   900,\n",
       "   950,\n",
       "   1000,\n",
       "   1050,\n",
       "   1100,\n",
       "   1150,\n",
       "   1200,\n",
       "   1250,\n",
       "   1300,\n",
       "   1350,\n",
       "   1412.5,\n",
       "   1500,\n",
       "   1600,\n",
       "   1700,\n",
       "   1800,\n",
       "   1900,\n",
       "   1975],\n",
       "  'lonrange': [-179.5, 179.5],\n",
       "  'latrange': [-64.5, 79.5],\n",
       "  'timerange': ['2004-01-15T00:00:00.000Z', '2018-12-15T00:00:00.000Z'],\n",
       "  'loncell': 1,\n",
       "  'latcell': 1}]"
      ]
     },
     "execution_count": 5,
     "metadata": {},
     "output_type": "execute_result"
    }
   ],
   "source": [
    "metadata_params = {\n",
    "    \"id\": rgdata[0]['metadata']\n",
    "}\n",
    "\n",
    "rgmeta = avh.query('grids/meta', options=metadata_params, apikey=API_KEY, apiroot=API_PREFIX)\n",
    "rgmeta"
   ]
  },
  {
   "cell_type": "markdown",
   "id": "b6244c3b",
   "metadata": {},
   "source": [
    "Here we see some interesting metadata about the file that produced the first record in our list of grid estimates, including the levels by which we can interpret the `data` key: these lists are sorted identically, so the first element in the `data` list corresponds to a depth of 2.5 dbar, the first entry in the `levels` metadata key.\n",
    "\n",
    "If we're only interested in the grid estimates near the ocean surface, we can add a `presRange` filter to our data request:"
   ]
  },
  {
   "cell_type": "code",
   "execution_count": null,
   "id": "ba7d739c",
   "metadata": {},
   "outputs": [],
   "source": [
    "filter_params = copy.deepcopy(params)\n",
    "filter_params['presRange'] = '0,100'\n",
    "\n",
    "rgSurfacedata = avh.query('grids/temperature_rg', options=filter_params, apikey=API_KEY, apiroot=API_PREFIX)\n",
    "rgSurfacedata[0]"
   ]
  },
  {
   "cell_type": "markdown",
   "id": "d88b9849",
   "metadata": {},
   "source": [
    "Now our data records returned by the `grids/temperature_rg` route only report levels within the range requested; also note when we customize the depth range requested, the custom-filtered list of levels appears directly on the data document. **When a key, such as levels, appears on a data document and that document's corresponding metadata document, the assigned value on the data document always takes precedence**.\n",
    "\n",
    "When downloading large volumes of data, we can also request that it be minified:"
   ]
  },
  {
   "cell_type": "code",
   "execution_count": null,
   "id": "99681d6a",
   "metadata": {},
   "outputs": [],
   "source": [
    "mini_params = copy.deepcopy(params)\n",
    "mini_params['compression'] = 'array'\n",
    "\n",
    "rgdata = avh.query('grids/temperature_rg', options=mini_params, apikey=API_KEY, apiroot=API_PREFIX)\n",
    "rgdata[0]"
   ]
  },
  {
   "cell_type": "markdown",
   "id": "1f57e664",
   "metadata": {},
   "source": [
    "## Ingestion by xarray\n",
    "\n",
    "Xarray is a familiar pythonic data structure; we can transform a raw API response to an xarray with a helper similar to the following."
   ]
  },
  {
   "cell_type": "code",
   "execution_count": null,
   "id": "f35f175b",
   "metadata": {},
   "outputs": [],
   "source": [
    "def xargrid(grid, depths):\n",
    "    # given the json response <grid> of a request to /grids/{gridName},\n",
    "    # a list <depths> of the corresponding depths for these grid documents\n",
    "    # return an xarray object with coordinates time, lat, lon, depth, and measurement value.\n",
    "    \n",
    "    lat = []\n",
    "    lon = []\n",
    "    time = []\n",
    "    meas = []\n",
    "    pressure = []\n",
    "    for p in grid:\n",
    "        for i, e in enumerate(p['data']):\n",
    "            lon.append(p['geolocation']['coordinates'][0])\n",
    "            lat.append(p['geolocation']['coordinates'][1])\n",
    "            time.append(avh.parsetime(p['timestamp']))\n",
    "            meas.append(p['data'][i][0])\n",
    "            pressure.append(depths[i])\n",
    "            \n",
    "    df = pandas.DataFrame({\"latitude\": lat, \n",
    "                           \"longitude\": lon, \n",
    "                           \"time\": time, \n",
    "                           \"pressure\": pressure, \n",
    "                           \"measurement\": meas}).set_index([\"latitude\",\"longitude\",\"time\",\"pressure\"])\n",
    "    return df.to_xarray()\n",
    "    \n",
    "ds = xargrid(rgdata, rgmeta[0]['levels'])"
   ]
  },
  {
   "cell_type": "markdown",
   "id": "bca4823b",
   "metadata": {},
   "source": [
    "Now we can do all the usual xarray operations; lets see what the ranges of our coordinate variables are:"
   ]
  },
  {
   "cell_type": "code",
   "execution_count": null,
   "id": "f488be09",
   "metadata": {},
   "outputs": [],
   "source": [
    "print('latitudes:',ds['latitude'].data)\n",
    "print('longitudes:',ds['longitude'].data)\n",
    "print('times:',ds['time'].data)\n",
    "print('pressures:',ds['pressure'].data)"
   ]
  },
  {
   "cell_type": "markdown",
   "id": "51c63657",
   "metadata": {},
   "source": [
    "We can easily select a slice of this array at constant pressure and time, to produce a possibly more conventional, map-like grid representation, and plot it with xarray's built in plots:"
   ]
  },
  {
   "cell_type": "code",
   "execution_count": null,
   "id": "194c1d55",
   "metadata": {},
   "outputs": [],
   "source": [
    "gridmap = ds.loc[{\"time\":'2012-01-15T00:00:00.000Z', \"pressure\":2.5}]\n",
    "gridmap['measurement'].plot()"
   ]
  },
  {
   "cell_type": "markdown",
   "id": "0b3fb758",
   "metadata": {},
   "source": [
    "## Area-Weighted Means over a longitude/latitude region\n",
    "\n",
    "A common operation when considering gridded data is to weight a mean by area of grid cells, which changes with latitude. A helper to do this with Argovis grid data could look like the following."
   ]
  },
  {
   "cell_type": "code",
   "execution_count": null,
   "id": "be61dca5",
   "metadata": {},
   "outputs": [],
   "source": [
    "def areaweighted_region_mean(dxr):\n",
    "    # given an xarray dataset <grid> for a given depth and time,\n",
    "    # calculate the mean of the gridded data variable, weighted by grid cell area\n",
    "    weights = np.cos(np.deg2rad(dxr.latitude))\n",
    "    weights.name = \"weights\"\n",
    "    dxr_weighted = dxr.weighted(weights)\n",
    "    \n",
    "    return dxr_weighted.mean((\"longitude\", \"latitude\"))"
   ]
  },
  {
   "cell_type": "code",
   "execution_count": null,
   "id": "e72c384e",
   "metadata": {},
   "outputs": [],
   "source": [
    "dxr_aw = areaweighted_region_mean(dxr=ds)\n",
    "print(dxr_aw.loc[{\"time\":'2012-01-15T00:00:00.000Z', \"pressure\":2.5}])\n",
    "dxr_aw"
   ]
  },
  {
   "cell_type": "code",
   "execution_count": null,
   "id": "732286c1",
   "metadata": {},
   "outputs": [],
   "source": [
    "# Let's plot the data after the spatial average over longitude and latitude\n",
    "dxr_aw['measurement'].plot(y=\"pressure\",yincrease=False,aspect=0.5, size=10)"
   ]
  },
  {
   "cell_type": "code",
   "execution_count": null,
   "id": "4b66dbee",
   "metadata": {},
   "outputs": [],
   "source": [
    "# Let's plot the data again, this time plotting one line per timestep\n",
    "dxr_aw['measurement'].plot.line(y=\"pressure\",yincrease=False,aspect=1, size=10)"
   ]
  },
  {
   "cell_type": "markdown",
   "id": "6b4958a8",
   "metadata": {},
   "source": [
    "## Accessing and visualizing Ocean Heat Content (OHC)"
   ]
  },
  {
   "cell_type": "markdown",
   "id": "3671272c",
   "metadata": {},
   "source": [
    "OHC fields in the following are by Kuusela and Giglio 2022 (https://doi.org/10.5281/zenodo.6131625) and are mapped using locally stationary Gaussian processes with data-driven decorrelation scales (Kuusela and Stein, 2018). A linear time trend was included in the estimate of the mean field (along with spatial terms and harmonics for the annual cycle). Mapping is done in latitude and longitude with monthly subsets of data for e.g. the 15-300 dbar pressure layer. The top layer of the pressure range is indicated in \"levels\"."
   ]
  },
  {
   "cell_type": "code",
   "execution_count": null,
   "id": "65290e6c",
   "metadata": {},
   "outputs": [],
   "source": [
    "params = {\n",
    "  \"startDate\": '2012-01-01T00:00:00Z',\n",
    "  \"endDate\": '2013-01-01T00:00:00Z',\n",
    "  \"polygon\": '[[-78,30],[-70,30],[-70,20],[-78,20],[-78,30]]',\n",
    "  \"data\": 'ohc_kg',\n",
    "  \"compression\": \"array\"\n",
    "}\n",
    "ohc_kg = avh.query('grids/ohc_kg', options=params, apikey=API_KEY, apiroot=API_PREFIX)\n",
    "\n",
    "metadata_params = {\n",
    "    \"id\": ohc_kg[0]['metadata']\n",
    "}\n",
    "ohcmeta = avh.query('grids/meta', options=metadata_params, apikey=API_KEY, apiroot=API_PREFIX)"
   ]
  },
  {
   "cell_type": "code",
   "execution_count": null,
   "id": "0e3fcb9f",
   "metadata": {},
   "outputs": [],
   "source": [
    "ds_ohc = xargrid(ohc_kg, ohcmeta[0]['levels'])"
   ]
  },
  {
   "cell_type": "code",
   "execution_count": null,
   "id": "20b467b8",
   "metadata": {},
   "outputs": [],
   "source": [
    "ds_ohc"
   ]
  },
  {
   "cell_type": "markdown",
   "id": "14f16fd4",
   "metadata": {},
   "source": [
    "Let's plot a map of OHC for January 2012:"
   ]
  },
  {
   "cell_type": "code",
   "execution_count": null,
   "id": "74c54930",
   "metadata": {},
   "outputs": [],
   "source": [
    "gridmap = ds_ohc.loc[{\"time\":'2012-01-15T00:00:00.000Z',\"pressure\":15}]\n",
    "gridmap['measurement'].plot()"
   ]
  },
  {
   "cell_type": "markdown",
   "id": "8b758cc2",
   "metadata": {},
   "source": [
    "Let's now compute the area average in the selected region."
   ]
  },
  {
   "cell_type": "code",
   "execution_count": null,
   "id": "c556b5ba",
   "metadata": {},
   "outputs": [],
   "source": [
    "dxr_aw_ohc = areaweighted_region_mean(dxr=ds_ohc)\n",
    "dxr_aw_ohc['measurement'].plot()"
   ]
  },
  {
   "cell_type": "code",
   "execution_count": null,
   "id": "12587713",
   "metadata": {},
   "outputs": [],
   "source": []
  }
 ],
 "metadata": {
  "kernelspec": {
   "display_name": "argovis_demos",
   "language": "python",
   "name": "argovis_demos"
  },
  "language_info": {
   "codemirror_mode": {
    "name": "ipython",
    "version": 3
   },
   "file_extension": ".py",
   "mimetype": "text/x-python",
   "name": "python",
   "nbconvert_exporter": "python",
   "pygments_lexer": "ipython3",
   "version": "3.9.13"
  },
  "toc": {
   "base_numbering": 1,
   "nav_menu": {},
   "number_sections": true,
   "sideBar": true,
   "skip_h1_title": false,
   "title_cell": "Table of Contents",
   "title_sidebar": "Contents",
   "toc_cell": false,
   "toc_position": {},
   "toc_section_display": true,
   "toc_window_display": false
  }
 },
 "nbformat": 4,
 "nbformat_minor": 5
}
