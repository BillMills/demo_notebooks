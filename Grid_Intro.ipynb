{
 "cells": [
  {
   "cell_type": "markdown",
   "id": "0295503d",
   "metadata": {},
   "source": [
    "# Intro to Argovis' Grid API"
   ]
  },
  {
   "cell_type": "markdown",
   "id": "28793a4f",
   "metadata": {},
   "source": [
    "Argovis offers a growing list of gridded products, indexed and downloadable through its API. In this notebook, we'll illustrate some basic operations and handling of this data."
   ]
  },
  {
   "cell_type": "markdown",
   "id": "f231d287",
   "metadata": {},
   "source": [
    "> **This is a beta product!**\n",
    "> Argovis' new API is currently undergoing heavy development. Therefore, everything in these notebooks should be understood as a technical preview only; implementation details may change before a \n",
    "stable release is made. Please send feedback and ideas to argovis@colorado.edu, and see the API docs as they evolve at https://argovis-api.colorado.edu/docs/."
   ]
  },
  {
   "cell_type": "markdown",
   "id": "864b2b2c",
   "metadata": {},
   "source": [
    "## Setup\n",
    "\n",
    "In addition to importing a few python packages, make sure to plug in your Argovis API key for `API_KEY` in the next cell. If you don't have a free Argovis API key yet, get one at https://argovis-keygen.colorado.edu/."
   ]
  },
  {
   "cell_type": "code",
   "execution_count": 1,
   "id": "498f41d7",
   "metadata": {},
   "outputs": [],
   "source": [
    "import requests, xarray, pandas, math, datetime, copy\n",
    "import numpy as np\n",
    "from datetime import datetime, timedelta\n",
    "\n",
    "API_KEY=''\n",
    "#API_PREFIX = 'https://argovis-api.colorado.edu'\n",
    "API_PREFIX = 'https://argovis-apix-atoc-argovis-dev.apps.containers02.colorado.edu'"
   ]
  },
  {
   "cell_type": "markdown",
   "id": "4e113931",
   "metadata": {},
   "source": [
    "## Downloading Gridded Data"
   ]
  },
  {
   "cell_type": "markdown",
   "id": "e34ba6af",
   "metadata": {},
   "source": [
    "Argovis supports a number of grids through the same API endpoints. Let's begin by discovering what grids are available:"
   ]
  },
  {
   "cell_type": "code",
   "execution_count": 2,
   "id": "787a595d",
   "metadata": {},
   "outputs": [
    {
     "data": {
      "text/plain": [
       "{'code': 429,\n",
       " 'message': 'You have temporarily exceeded your API request limit. You will be able to issue another request in NaN seconds. Long term, requests like the one you just made can be made every 1 seconds.'}"
      ]
     },
     "execution_count": 2,
     "metadata": {},
     "output_type": "execute_result"
    }
   ],
   "source": [
    "grids = requests.get(API_PREFIX + '/grids/vocabulary', headers={'x-argokey': API_KEY}).json()\n",
    "grids"
   ]
  },
  {
   "cell_type": "markdown",
   "id": "b98121e6",
   "metadata": {},
   "source": [
    "We get a list of grid names from the `/grids/vocabulary` route. We can query data from any one of these via the `/grids/{gridName}` route, and the usual temporospatial parameters that may be familiar from other Argovis APIs:\n",
    "\n",
    " - `startDate` (geo-constrained, see below, format YYYY-MM-DDTHH:MM:SSZ at GMT0): beginning of time window to query.\n",
    " - `endDate` (geo-constrained, see below, format YYYY-MM-DDTHH:MM:SSZ at GMT0): end of time window to query.\n",
    " - `polygon` (geo-constrained, see below, format [[lon0,lat0],[lon1,lat1],...,[lonN,latN],[lon0,lat0]]): geographical region to query.\n",
    " - `multipolygon` (geo-constrained, see below, format as a list of `polygon`s): query the geographical region at the intersection of *all* listed polygons.\n",
    " - `center` + `radius` (geo-constrained, see below, center format lon,lat ; raidus format distance in km): geographical region to query, defined as maximum distance (radius) from a point (center).\n",
    " - `presRange` (optional, format shallowlimit,deeplimit): only return levels between the limits specified, in dbar.\n",
    " - `data` (optional, format comma separated list of keys): request the actual measurements to go with matched documents.\n",
    " \n",
    "**Items marked 'geo-constrained'** are individually optional, but have soft limits based on estimates of how much data they will return. If you need to query a large area, consider making requests over a short timespan; or vice versa.\n",
    "\n",
    "Let's try a simple request to download a piece of data from one of these gruds, a 10 degree box over the North Atlantic from the first quarter of 2012 from the Roemmich-Gilson Argo temperature climatology. For gridded data, the `data` key, when used, always matches the grid name in the route."
   ]
  },
  {
   "cell_type": "code",
   "execution_count": 3,
   "id": "30c5fa70",
   "metadata": {},
   "outputs": [],
   "source": [
    "params = {\n",
    "  \"startDate\": '2012-01-01T00:00:00Z',\n",
    "  \"endDate\": '2012-04-01T00:00:00Z',\n",
    "  \"polygon\": '[[-66.621094,42.163403],[-71.367188,40.580585],[-74.003906,37.439974],[-75.058594,35.029996],[-79.453125,32.249974],[-80.15625,29.993002],[-78.75,23.725012],[-73.828125,21.289374],[-70.3125,20.797201],[-67.5,19.47695],[-64.160156,19.47695],[-66.621094,42.163403]]',\n",
    "  \"data\": 'temperature_rg'\n",
    "}\n",
    "\n",
    "rgdata = requests.get(API_PREFIX + '/grids/temperature_rg', params=params, headers={'x-argokey': API_KEY}).json()"
   ]
  },
  {
   "cell_type": "markdown",
   "id": "16bc76c9",
   "metadata": {},
   "source": [
    "(If you need help constructing a polygon, try the following:\n",
    "\n",
    "  - visit argovis.colorado.edu\n",
    "  - draw a shape\n",
    "  - click on the purple shaded area of the region of interest (not on a dot)\n",
    "  - from the pop up window, go \"to Selection page\"\n",
    "  - from the url of the selection shape, copy the shape, i.e. [copy_all_this_inside_outer_brackets] after 'shape=')\n",
    "\n",
    "\n",
    "Like most Argovis API requests, you get a list of documents matching your query. Let's have a look at the first record in what the API returned to us:"
   ]
  },
  {
   "cell_type": "code",
   "execution_count": 4,
   "id": "20bce63c",
   "metadata": {},
   "outputs": [
    {
     "ename": "KeyError",
     "evalue": "0",
     "output_type": "error",
     "traceback": [
      "\u001b[0;31m---------------------------------------------------------------------------\u001b[0m",
      "\u001b[0;31mKeyError\u001b[0m                                  Traceback (most recent call last)",
      "Input \u001b[0;32mIn [4]\u001b[0m, in \u001b[0;36m<cell line: 1>\u001b[0;34m()\u001b[0m\n\u001b[0;32m----> 1\u001b[0m \u001b[43mrgdata\u001b[49m\u001b[43m[\u001b[49m\u001b[38;5;241;43m0\u001b[39;49m\u001b[43m]\u001b[49m\n",
      "\u001b[0;31mKeyError\u001b[0m: 0"
     ]
    }
   ],
   "source": [
    "rgdata[0]"
   ]
  },
  {
   "cell_type": "markdown",
   "id": "aadf1302",
   "metadata": {},
   "source": [
    "By default, Argovis returns gridded data in a *profile-like* structure, with a schema similar to other Argovis APIs. Data is presented in the `data` key, with units for each key presented in the `units` property. Since a grid reports values at regular depths, those depths are reported in the metdata document associated with each grid profile in order to avoid trasmitting them over and over for default requests like this. We can look them up using the `/grids/metadata` route and the `metadata` key from the document in question:"
   ]
  },
  {
   "cell_type": "code",
   "execution_count": null,
   "id": "3edd344a",
   "metadata": {},
   "outputs": [],
   "source": [
    "metadata_params = {\n",
    "    \"id\": rgdata[0]['metadata']\n",
    "}\n",
    "\n",
    "rgmeta = requests.get(API_PREFIX + '/grids/meta', params=metadata_params, headers={'x-argokey': API_KEY}).json()\n",
    "rgmeta"
   ]
  },
  {
   "cell_type": "markdown",
   "id": "26895d7f",
   "metadata": {},
   "source": [
    "Here we see some interesting metadata about the file that produced the first record in our list of grid estimates, including the levels by which we can interpret the `data` key: these lists are sorted identically, so the first element in the `data` list corresponds to a depth of 2.5 dbar, the first entry in the `levels` metadata key.\n",
    "\n",
    "If we're only interested in the grid estimates near the ocean surface, we can add a `presRange` filter to our data request:"
   ]
  },
  {
   "cell_type": "code",
   "execution_count": null,
   "id": "6ab9c23c",
   "metadata": {},
   "outputs": [],
   "source": [
    "filter_params = copy.deepcopy(params)\n",
    "filter_params['presRange'] = '0,100'\n",
    "\n",
    "rgSurfacedata = requests.get(API_PREFIX+'/grids/temperature_rg', params=filter_params, headers={'x-argokey': API_KEY}).json()\n",
    "rgSurfacedata[0]"
   ]
  },
  {
   "cell_type": "markdown",
   "id": "1bec5c9c",
   "metadata": {},
   "source": [
    "Now our data records returned by the `grids/temperature_rg` route only report levels within the range requested; also note when we customize the depth range requested, the custom-filtered list of levels appears directly on the data document. **When a key, such as levels, appears on a data document and that document's corresponding metadata document, the assigned value on the data document always takes precedence**.\n",
    "\n",
    "When downloading large volumes of data, we can also request that it be minified:"
   ]
  },
  {
   "cell_type": "code",
   "execution_count": null,
   "id": "7d82a143",
   "metadata": {},
   "outputs": [],
   "source": [
    "mini_params = copy.deepcopy(params)\n",
    "mini_params['compression'] = 'basic'\n",
    "\n",
    "rgdata = requests.get(API_PREFIX+'/grids/temperature_rg', params=mini_params, headers={'x-argokey': API_KEY}).json()\n",
    "rgdata[0]"
   ]
  },
  {
   "cell_type": "markdown",
   "id": "f37f572c",
   "metadata": {},
   "source": [
    "## Ingestion by xarray\n",
    "\n",
    "Xarray is a familiar pythonic data structure; we can transform a raw API response to an xarray with a helper similar to the following."
   ]
  },
  {
   "cell_type": "code",
   "execution_count": null,
   "id": "0e66dafd",
   "metadata": {},
   "outputs": [],
   "source": [
    "def xargrid(grid, depths):\n",
    "    # given the json response <grid> of a request to /grids/{gridName},\n",
    "    # a list <depths> of the corresponding depths for these grid documents\n",
    "    # return an xarray object with coordinates time, lat, lon, depth, and measurement value.\n",
    "    \n",
    "    lat = []\n",
    "    lon = []\n",
    "    time = []\n",
    "    meas = []\n",
    "    pressure = []\n",
    "    for p in grid:\n",
    "        for i, e in enumerate(p['data']):\n",
    "            lon.append(p['geolocation']['coordinates'][0])\n",
    "            lat.append(p['geolocation']['coordinates'][1])\n",
    "            # convert a string to a date (zeros to check at the end of date)\n",
    "            time.append(datetime.strptime(p['timestamp'], '%Y-%m-%dT%H:%M:%S.%fZ'))\n",
    "            meas.append(p['data'][i][0])\n",
    "            pressure.append(depths[i])\n",
    "            \n",
    "    df = pandas.DataFrame({\"latitude\": lat, \n",
    "                           \"longitude\": lon, \n",
    "                           \"time\": time, \n",
    "                           \"pressure\": pressure, \n",
    "                           \"measurement\": meas}).set_index([\"latitude\",\"longitude\",\"time\",\"pressure\"])\n",
    "    return df.to_xarray()\n",
    "    \n",
    "ds = xargrid(rgdata, rgmeta[0]['levels'])"
   ]
  },
  {
   "cell_type": "markdown",
   "id": "14b0d763",
   "metadata": {},
   "source": [
    "Now we can do all the usual xarray operations; lets see what the ranges of our coordinate variables are:"
   ]
  },
  {
   "cell_type": "code",
   "execution_count": null,
   "id": "02551beb",
   "metadata": {},
   "outputs": [],
   "source": [
    "print('latitudes:',ds['latitude'].data)\n",
    "print('longitudes:',ds['longitude'].data)\n",
    "print('times:',ds['time'].data)\n",
    "print('pressures:',ds['pressure'].data)"
   ]
  },
  {
   "cell_type": "markdown",
   "id": "233390e8",
   "metadata": {},
   "source": [
    "We can easily select a slice of this array at constant pressure and time, to produce a possibly more conventional, map-like grid representation, and plot it with xarray's built in plots:"
   ]
  },
  {
   "cell_type": "code",
   "execution_count": null,
   "id": "5001fa78",
   "metadata": {},
   "outputs": [],
   "source": [
    "gridmap = ds.loc[{\"time\":'2012-01-15T00:00:00.000Z', \"pressure\":2.5}]\n",
    "gridmap['measurement'].plot()"
   ]
  },
  {
   "cell_type": "markdown",
   "id": "1074a30e",
   "metadata": {},
   "source": [
    "## Area-Weighted Means over a longitude/latitude region\n",
    "\n",
    "A common operation when considering gridded data is to weight a mean by area of grid cells, which changes with latitude. A helper to do this with Argovis grid data could look like the following."
   ]
  },
  {
   "cell_type": "code",
   "execution_count": null,
   "id": "6adac4ca",
   "metadata": {},
   "outputs": [],
   "source": [
    "def areaweighted_region_mean(dxr):\n",
    "    # given an xarray dataset <grid> for a given depth and time,\n",
    "    # calculate the mean of the gridded data variable, weighted by grid cell area\n",
    "    weights = np.cos(np.deg2rad(dxr.latitude))\n",
    "    weights.name = \"weights\"\n",
    "    dxr_weighted = dxr.weighted(weights)\n",
    "    \n",
    "    return dxr_weighted.mean((\"longitude\", \"latitude\"))"
   ]
  },
  {
   "cell_type": "code",
   "execution_count": null,
   "id": "83b14ab4",
   "metadata": {},
   "outputs": [],
   "source": [
    "dxr_aw = areaweighted_region_mean(dxr=ds)\n",
    "print(dxr_aw.loc[{\"time\":'2012-01-15T00:00:00.000Z', \"pressure\":2.5}])\n",
    "dxr_aw"
   ]
  },
  {
   "cell_type": "code",
   "execution_count": null,
   "id": "bf0629f0",
   "metadata": {},
   "outputs": [],
   "source": [
    "# Let's plot the data after the spatial average over longitude and latitude\n",
    "dxr_aw['measurement'].plot(y=\"pressure\",yincrease=False,aspect=0.5, size=10)"
   ]
  },
  {
   "cell_type": "code",
   "execution_count": null,
   "id": "76556535",
   "metadata": {},
   "outputs": [],
   "source": [
    "# Let's plot the data again, this time plotting one line per timestep\n",
    "dxr_aw['measurement'].plot.line(y=\"pressure\",yincrease=False,aspect=1, size=10)"
   ]
  },
  {
   "cell_type": "markdown",
   "id": "b8d9b40c",
   "metadata": {},
   "source": [
    "## Accessing and visualizing Ocean Heat Content (OHC)"
   ]
  },
  {
   "cell_type": "markdown",
   "id": "a328a7ee",
   "metadata": {},
   "source": [
    "OHC fields in the following are by Kuusela and Giglio 2022 (https://doi.org/10.5281/zenodo.6131625) and are mapped using locally stationary Gaussian processes with data-driven decorrelation scales (Kuusela and Stein, 2018). A linear time trend was included in the estimate of the mean field (along with spatial terms and harmonics for the annual cycle). Mapping is done in latitude and longitude with monthly subsets of data for e.g. the 15-300 dbar pressure layer. The top layer of the pressure range is indicated in \"levels\"."
   ]
  },
  {
   "cell_type": "code",
   "execution_count": null,
   "id": "39a9f706",
   "metadata": {},
   "outputs": [],
   "source": [
    "params = {\n",
    "  \"startDate\": '2012-01-01T00:00:00Z',\n",
    "  \"endDate\": '2013-01-01T00:00:00Z',\n",
    "  \"polygon\": '[[-78,30],[-70,30],[-70,20],[-78,20],[-78,30]]',\n",
    "  \"data\": 'ohc_kg',\n",
    "  \"compression\": \"basic\"\n",
    "}\n",
    "\n",
    "ohc_kg = requests.get('https://argovis-api.colorado.edu/grids/ohc_kg', params=params, headers={'x-argokey': API_KEY}).json()\n",
    "\n",
    "metadata_params = {\n",
    "    \"id\": ohc_kg[0]['metadata']\n",
    "}\n",
    "\n",
    "ohcmeta = requests.get('https://argovis-api.colorado.edu/grids/meta', params=metadata_params, headers={'x-argokey': API_KEY}).json()"
   ]
  },
  {
   "cell_type": "code",
   "execution_count": null,
   "id": "7a68bcd1",
   "metadata": {},
   "outputs": [],
   "source": [
    "ds_ohc = xargrid(ohc_kg, ohcmeta[0]['levels'])"
   ]
  },
  {
   "cell_type": "code",
   "execution_count": null,
   "id": "6dd44d53",
   "metadata": {},
   "outputs": [],
   "source": [
    "ds_ohc"
   ]
  },
  {
   "cell_type": "markdown",
   "id": "22b7aa04",
   "metadata": {},
   "source": [
    "Let's plot a map of OHC for January 2012:"
   ]
  },
  {
   "cell_type": "code",
   "execution_count": null,
   "id": "f43dce93",
   "metadata": {},
   "outputs": [],
   "source": [
    "gridmap = ds_ohc.loc[{\"time\":'2012-01-15T00:00:00.000Z',\"pressure\":15}]\n",
    "gridmap['measurement'].plot()"
   ]
  },
  {
   "cell_type": "markdown",
   "id": "1f650869",
   "metadata": {},
   "source": [
    "Let's now compute the area average in the selected region."
   ]
  },
  {
   "cell_type": "code",
   "execution_count": null,
   "id": "af741f4c",
   "metadata": {},
   "outputs": [],
   "source": [
    "dxr_aw_ohc = areaweighted_region_mean(dxr=ds_ohc)\n",
    "dxr_aw_ohc['measurement'].plot()"
   ]
  }
 ],
 "metadata": {
  "kernelspec": {
   "display_name": "argovis_demos",
   "language": "python",
   "name": "argovis_demos"
  },
  "language_info": {
   "codemirror_mode": {
    "name": "ipython",
    "version": 3
   },
   "file_extension": ".py",
   "mimetype": "text/x-python",
   "name": "python",
   "nbconvert_exporter": "python",
   "pygments_lexer": "ipython3",
   "version": "3.9.12"
  },
  "toc": {
   "base_numbering": 1,
   "nav_menu": {},
   "number_sections": true,
   "sideBar": true,
   "skip_h1_title": false,
   "title_cell": "Table of Contents",
   "title_sidebar": "Contents",
   "toc_cell": false,
   "toc_position": {},
   "toc_section_display": true,
   "toc_window_display": false
  }
 },
 "nbformat": 4,
 "nbformat_minor": 5
}
