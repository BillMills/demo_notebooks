{
 "cells": [
  {
   "cell_type": "markdown",
   "id": "008441bf-46b0-44b8-acec-0fa336b70824",
   "metadata": {},
   "source": [
    "# Intro to Argovis' Grid API"
   ]
  },
  {
   "cell_type": "markdown",
   "id": "9e9c9727-f506-448d-b144-9e0c8c3d0893",
   "metadata": {},
   "source": [
    "Argovis offers a growing list of gridded products, indexed and downloadable through its API. In this notebook, we'll illustrate some basic operations and handling of this data."
   ]
  },
  {
   "cell_type": "markdown",
   "id": "fcd0acb3-4bfe-4b91-a6b1-c3cd778eb3e3",
   "metadata": {},
   "source": [
    "## Setup\n",
    "\n",
    "In addition to importing a few python packages, make sure to plug in your Argovis API key for `API_KEY` in the next cell. If you don't have a free Argovis API key yet, get one at https://argovis-keygen.colorado.edu/."
   ]
  },
  {
   "cell_type": "code",
   "execution_count": 56,
   "id": "0ad325aa-8114-4433-a8f5-ad151e4d1db1",
   "metadata": {},
   "outputs": [],
   "source": [
    "import requests, xarray, pandas, math\n",
    "from datetime import datetime, timedelta\n",
    "\n",
    "API_KEY=''"
   ]
  },
  {
   "cell_type": "markdown",
   "id": "d23c4ff6-fee3-450e-8ff8-5b65e785870b",
   "metadata": {},
   "source": [
    "## Downloading Gridded Data\n",
    "\n",
    "Argovis offers gridded data at its `/grids` endpoint. Available query string parameters are:\n",
    "\n",
    " - `gridName` (mandatory, one of rgTempTotal, rgPsalTotal, ohc): name of gridded product to search.\n",
    " - `startDate` (mandatory, format YYYY-MM-DDTHH:MM:SSZ at GMT0): beginning of time window to query.\n",
    " - `endDate` (mandatory, format YYYY-MM-DDTHH:MM:SSZ at GMT0): end of time window to query.\n",
    " - `polygon` (mandatory, format [[lon0,lat0],[lon1,lat1],...,[lonN,latN],[lon0,lat0]]): geographical region to query.\n",
    " - `presRange` (optional, format minimum_pressure,maximum_pressure): pressure window to filter for.\n",
    " \n",
    "Let's try a simple request to download a piece of the Roemmich-Gilson Argo climatology, a 2 degree box over the North Atlantic from the first quarter of 2012:"
   ]
  },
  {
   "cell_type": "code",
   "execution_count": 19,
   "id": "9a47ef81-cd32-4fb9-865b-3c49cbb137bc",
   "metadata": {},
   "outputs": [],
   "source": [
    "params = {\n",
    "  \"gridName\": 'rgTempTotal',\n",
    "  \"startDate\": '2012-01-01T00:00:00Z',\n",
    "  \"endDate\": '2012-04-01T00:00:00Z',\n",
    "  \"polygon\": '[[ -73, 40],[ -73, 38],[ -71, 38],[ -71, 40],[ -73, 40]]'\n",
    "}\n",
    "\n",
    "r = requests.get('https://argovis-api.colorado.edu/grids', params=params, headers={'x-argokey': API_KEY})\n",
    "rgdata = r.json()"
   ]
  },
  {
   "cell_type": "markdown",
   "id": "8448db43-fa21-41c1-92f4-91f2032bdffc",
   "metadata": {},
   "source": [
    "Like most Argovis API requests, you get a list of documents matching your query. Let's have a look at the first record in what the API returned to us:"
   ]
  },
  {
   "cell_type": "code",
   "execution_count": 20,
   "id": "bd993a72-c33c-4ad5-aea7-14216e732d25",
   "metadata": {},
   "outputs": [
    {
     "data": {
      "text/plain": [
       "{'_id': 'rgTempTotal',\n",
       " 'units': 'degree celcius (ITS-90)',\n",
       " 'levels': [2.5,\n",
       "  10,\n",
       "  20,\n",
       "  30,\n",
       "  40,\n",
       "  50,\n",
       "  60,\n",
       "  70,\n",
       "  80,\n",
       "  90,\n",
       "  100,\n",
       "  110,\n",
       "  120,\n",
       "  130,\n",
       "  140,\n",
       "  150,\n",
       "  160,\n",
       "  170,\n",
       "  182.5,\n",
       "  200,\n",
       "  220,\n",
       "  240,\n",
       "  260,\n",
       "  280,\n",
       "  300,\n",
       "  320,\n",
       "  340,\n",
       "  360,\n",
       "  380,\n",
       "  400,\n",
       "  420,\n",
       "  440,\n",
       "  462.5,\n",
       "  500,\n",
       "  550,\n",
       "  600,\n",
       "  650,\n",
       "  700,\n",
       "  750,\n",
       "  800,\n",
       "  850,\n",
       "  900,\n",
       "  950,\n",
       "  1000,\n",
       "  1050,\n",
       "  1100,\n",
       "  1150,\n",
       "  1200,\n",
       "  1250,\n",
       "  1300,\n",
       "  1350,\n",
       "  1412.5,\n",
       "  1500,\n",
       "  1600,\n",
       "  1700,\n",
       "  1800,\n",
       "  1900,\n",
       "  1975],\n",
       " 'date_added': '2022-04-22T00:56:19.631Z'}"
      ]
     },
     "execution_count": 20,
     "metadata": {},
     "output_type": "execute_result"
    }
   ],
   "source": [
    "rgdata[0]"
   ]
  },
  {
   "cell_type": "markdown",
   "id": "6e89592a-1ed2-49f8-8f85-6504ecd80860",
   "metadata": {},
   "source": [
    "The first object in a request to `/grids` is always the appropriate *metadata record* for the grid. The most important piece of information it includes is the `levels` key, which tells us the pressure in dbar of each level of this climatology; we'll need this to interpret the rest of the gridded data.\n",
    "\n",
    "All the records returned by `/grids` after the first specify the actual data we wanted; let's have a look at one of them:"
   ]
  },
  {
   "cell_type": "code",
   "execution_count": 21,
   "id": "5d4cedeb-cb4a-44bf-8f40-a7a89e49a83b",
   "metadata": {},
   "outputs": [
    {
     "data": {
      "text/plain": [
       "{'_id': '6264912baa7c850607148180',\n",
       " 'g': {'type': 'Point', 'coordinates': [-72.5, 38.5]},\n",
       " 't': '2012-03-15T00:00:00.000Z',\n",
       " 'd': [14.328,\n",
       "  14.364,\n",
       "  14.000999,\n",
       "  13.493001,\n",
       "  13.293,\n",
       "  13.512,\n",
       "  13.667,\n",
       "  13.725,\n",
       "  13.753,\n",
       "  13.749,\n",
       "  13.731999,\n",
       "  13.727,\n",
       "  13.743,\n",
       "  13.719,\n",
       "  13.682,\n",
       "  13.629001,\n",
       "  13.542,\n",
       "  13.439,\n",
       "  13.219,\n",
       "  12.803,\n",
       "  12.322,\n",
       "  11.679,\n",
       "  11.028999,\n",
       "  10.431,\n",
       "  9.852,\n",
       "  9.393,\n",
       "  8.955999,\n",
       "  8.55,\n",
       "  8.164,\n",
       "  7.798,\n",
       "  7.456,\n",
       "  7.137,\n",
       "  6.83,\n",
       "  6.39,\n",
       "  5.946,\n",
       "  5.645,\n",
       "  5.392,\n",
       "  5.208,\n",
       "  5.054,\n",
       "  4.89,\n",
       "  4.717,\n",
       "  4.57,\n",
       "  4.5,\n",
       "  4.437,\n",
       "  4.36,\n",
       "  4.3,\n",
       "  4.227,\n",
       "  4.096,\n",
       "  4.046,\n",
       "  3.993,\n",
       "  3.964,\n",
       "  3.906,\n",
       "  3.814,\n",
       "  3.718,\n",
       "  3.624,\n",
       "  3.519,\n",
       "  3.407,\n",
       "  3.313]}"
      ]
     },
     "execution_count": 21,
     "metadata": {},
     "output_type": "execute_result"
    }
   ],
   "source": [
    "rgdata[1]"
   ]
  },
  {
   "cell_type": "markdown",
   "id": "6f03bcdf-dd7e-468b-a083-c2c73aa9a03a",
   "metadata": {},
   "source": [
    "By default, Argovis returns gridded data in a *profile-like* structure: this record, located in space by its `g` key (for geolocation) and time by its `t` key, contains the grid points for all corresponding depths in its `d` (for data) key. To interpret the list of numbers, compare it entry-by-entry to the `levels` key in the metadata record; for example, the two records printed above indicate that the temperature at these coordinates and 10 dbar depth is 14.364."
   ]
  },
  {
   "cell_type": "markdown",
   "id": "19d59a6c-4647-4eaf-94ac-1e5e8a2e8b25",
   "metadata": {},
   "source": [
    "## Remapping Gridded Data\n",
    "\n",
    "When working with gridded data, we often think of the data as maps at a constant time and pressure level across a region of interest, rather than the profile structure seen above. We can reconstruct gridded data in this format with a function like the following:"
   ]
  },
  {
   "cell_type": "code",
   "execution_count": 22,
   "id": "955e2aac-16b3-44a6-9524-2bd4835bc174",
   "metadata": {},
   "outputs": [
    {
     "data": {
      "text/plain": [
       "[{'geolocation': {'type': 'Point', 'coordinates': [-72.5, 38.5]},\n",
       "  'meas': 15.683001},\n",
       " {'geolocation': {'type': 'Point', 'coordinates': [-72.5, 39.5]},\n",
       "  'meas': 14.914},\n",
       " {'geolocation': {'type': 'Point', 'coordinates': [-71.5, 39.5]},\n",
       "  'meas': 15.139999},\n",
       " {'geolocation': {'type': 'Point', 'coordinates': [-71.5, 38.5]},\n",
       "  'meas': 15.451}]"
      ]
     },
     "execution_count": 22,
     "metadata": {},
     "output_type": "execute_result"
    }
   ],
   "source": [
    "def gridmap(time, pressure, region):\n",
    "    # given a datetime <time>, a <pressure>, and a <region> defined like polygon was above,\n",
    "    # return a list of dictionaries {geolocation, meas} that represent the grid at the time and depth specified.\n",
    "   \n",
    "    params = {\n",
    "        \"gridName\": \"rgTempTotal\",\n",
    "        \"startDate\": datetime.strftime(time - timedelta(minutes=1), '%Y-%m-%dT%H:%M:%SZ'),\n",
    "        \"endDate\": datetime.strftime(time + timedelta(minutes=1), '%Y-%m-%dT%H:%M:%SZ'),\n",
    "        \"polygon\": region,\n",
    "        \"presRange\": str(pressure-.001) + ',' + str(pressure+.001)\n",
    "    }\n",
    "\n",
    "    r = requests.get('https://argovis-api.colorado.edu/grids', params=params, headers={'x-argokey': API_KEY})\n",
    "    data = r.json()\n",
    "    return [{\"geolocation\": p[\"g\"], \"meas\": p[\"d\"][0]} for p in data[1:]]\n",
    "    \n",
    "dmap = gridmap(datetime.strptime('2012-01-15T00:00:00Z', '%Y-%m-%dT%H:%M:%SZ'), 2.5, params['polygon'])\n",
    "dmap"
   ]
  },
  {
   "cell_type": "markdown",
   "id": "bb9be9fd-2ef5-4aab-87e0-407a4e68b683",
   "metadata": {},
   "source": [
    "The resulting list represents temperature grid points in the region of interest from the 2.5 dbar grid on Jan 15 2012."
   ]
  },
  {
   "cell_type": "markdown",
   "id": "f7e37602-ecc9-469f-9f45-0cfeb71e3656",
   "metadata": {},
   "source": [
    "## Ingestion by xarray\n",
    "\n",
    "Xarray is a familiar pythonic data structure; we can transform a raw API response to an xarray with a helper similar to the following."
   ]
  },
  {
   "cell_type": "code",
   "execution_count": 51,
   "id": "5fce19f6",
   "metadata": {},
   "outputs": [],
   "source": [
    "def xargrid(grid):\n",
    "    # given the json response <grid> of a request to /grids,\n",
    "    # return an xarray object with coordinates time, lat, lon, depth, and measurement value.\n",
    "    \n",
    "    lat = []\n",
    "    lon = []\n",
    "    time = []\n",
    "    pres = []\n",
    "    meas = []\n",
    "    for p in grid[1:]:\n",
    "        for i, e in enumerate(p['d']):\n",
    "            lon.append(p['g']['coordinates'][0])\n",
    "            lat.append(p['g']['coordinates'][1])\n",
    "            time.append(p['t'])\n",
    "            meas.append(p['d'][i])\n",
    "            pres.append(grid[0]['levels'][i])\n",
    "            \n",
    "    df = pandas.DataFrame({\"latitude\": lat, \n",
    "                           \"longitude\": lon, \n",
    "                           \"time\": time, \n",
    "                           \"pressure\": pres, \n",
    "                           \"measurement\": meas}).set_index([\"latitude\",\"longitude\",\"time\",\"pressure\"])\n",
    "    return df.to_xarray()\n",
    "    \n",
    "ds = xargrid(rgdata)"
   ]
  },
  {
   "cell_type": "markdown",
   "id": "254b5dc4",
   "metadata": {},
   "source": [
    "Now we can do all the usual xarray operations; lets see what the ranges of our coordinate variables are:"
   ]
  },
  {
   "cell_type": "code",
   "execution_count": 52,
   "id": "bb568d56",
   "metadata": {},
   "outputs": [
    {
     "name": "stdout",
     "output_type": "stream",
     "text": [
      "latitudes: [38.5 39.5]\n",
      "longitudes: [-72.5 -71.5]\n",
      "times: ['2012-01-15T00:00:00.000Z' '2012-02-15T00:00:00.000Z'\n",
      " '2012-03-15T00:00:00.000Z']\n",
      "pressures: [   2.5   10.    20.    30.    40.    50.    60.    70.    80.    90.\n",
      "  100.   110.   120.   130.   140.   150.   160.   170.   182.5  200.\n",
      "  220.   240.   260.   280.   300.   320.   340.   360.   380.   400.\n",
      "  420.   440.   462.5  500.   550.   600.   650.   700.   750.   800.\n",
      "  850.   900.   950.  1000.  1050.  1100.  1150.  1200.  1250.  1300.\n",
      " 1350.  1412.5 1500.  1600.  1700.  1800.  1900.  1975. ]\n"
     ]
    }
   ],
   "source": [
    "print('latitudes:',ds['latitude'].data)\n",
    "print('longitudes:',ds['longitude'].data)\n",
    "print('times:',ds['time'].data)\n",
    "print('pressures:',ds['pressure'].data)"
   ]
  },
  {
   "cell_type": "markdown",
   "id": "8bdefeb6",
   "metadata": {},
   "source": [
    "And lets use a selection of these to look up data from our xarray dataset:"
   ]
  },
  {
   "cell_type": "code",
   "execution_count": 55,
   "id": "84d7118f",
   "metadata": {},
   "outputs": [
    {
     "data": {
      "text/plain": [
       "array(4.707)"
      ]
     },
     "execution_count": 55,
     "metadata": {},
     "output_type": "execute_result"
    }
   ],
   "source": [
    "ds.loc[{\"latitude\": 38.5, \"longitude\":-71.5, \"time\":'2012-02-15T00:00:00.000Z', \"pressure\":500}]['measurement'].data"
   ]
  },
  {
   "cell_type": "markdown",
   "id": "18f2e8aa",
   "metadata": {},
   "source": [
    "## Area-Weighted Means\n",
    "\n",
    "A common operation when considering gridded data is to weight a mean by area of grid cells, which changes with latitude. A helper to do this with Argovis grid data could look like the following."
   ]
  },
  {
   "cell_type": "code",
   "execution_count": 69,
   "id": "292337ab",
   "metadata": {},
   "outputs": [
    {
     "data": {
      "text/plain": [
       "15.298908060646564"
      ]
     },
     "execution_count": 69,
     "metadata": {},
     "output_type": "execute_result"
    }
   ],
   "source": [
    "def amean(grid):\n",
    "    # given a map of grid data like what's returned from gridmap(),\n",
    "    # calculate the mean of the data variable, weighted by grid cell area\n",
    "    \n",
    "    cellsize = 1 # degrees\n",
    "    total = 0\n",
    "    totalweight = 0\n",
    "    for cell in grid:\n",
    "        highlat = abs(cell['geolocation']['coordinates'][1])+cellsize/2\n",
    "        if highlat > 90:\n",
    "            highlat = 180 - highlat\n",
    "        lowlat = abs(cell['geolocation']['coordinates'][1])-cellsize/2\n",
    "        weight = math.sin(math.pi/180*highlat) - math.sin(math.pi/180*lowlat)\n",
    "        total += cell['meas']*weight\n",
    "        totalweight += weight\n",
    "        \n",
    "    return total / totalweight\n",
    "        \n",
    "amean(dmap)"
   ]
  },
  {
   "cell_type": "code",
   "execution_count": null,
   "id": "2cb9fe4e",
   "metadata": {},
   "outputs": [],
   "source": []
  }
 ],
 "metadata": {
  "kernelspec": {
   "display_name": "argovis_demos",
   "language": "python",
   "name": "argovis_demos"
  },
  "language_info": {
   "codemirror_mode": {
    "name": "ipython",
    "version": 3
   },
   "file_extension": ".py",
   "mimetype": "text/x-python",
   "name": "python",
   "nbconvert_exporter": "python",
   "pygments_lexer": "ipython3",
   "version": "3.9.12"
  },
  "toc": {
   "base_numbering": 1,
   "nav_menu": {},
   "number_sections": true,
   "sideBar": true,
   "skip_h1_title": false,
   "title_cell": "Table of Contents",
   "title_sidebar": "Contents",
   "toc_cell": false,
   "toc_position": {},
   "toc_section_display": true,
   "toc_window_display": false
  }
 },
 "nbformat": 4,
 "nbformat_minor": 5
}
