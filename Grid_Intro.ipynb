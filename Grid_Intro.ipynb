{
 "cells": [
  {
   "cell_type": "markdown",
   "id": "008441bf-46b0-44b8-acec-0fa336b70824",
   "metadata": {},
   "source": [
    "# Intro to Argovis' Grid API"
   ]
  },
  {
   "cell_type": "markdown",
   "id": "9e9c9727-f506-448d-b144-9e0c8c3d0893",
   "metadata": {},
   "source": [
    "Argovis offers a growing list of gridded products, indexed and downloadable through its API. In this notebook, we'll illustrate some basic operations and handling of this data."
   ]
  },
  {
   "cell_type": "markdown",
   "id": "fcd0acb3-4bfe-4b91-a6b1-c3cd778eb3e3",
   "metadata": {},
   "source": [
    "## Setup\n",
    "\n",
    "In addition to importing a few python packages, make sure to plug in your Argovis API key for `API_KEY` in the next cell. If you don't have a free Argovis API key yet, get one at https://argovis-keygen.colorado.edu/."
   ]
  },
  {
   "cell_type": "code",
   "execution_count": 95,
   "id": "0ad325aa-8114-4433-a8f5-ad151e4d1db1",
   "metadata": {},
   "outputs": [],
   "source": [
    "import requests, xarray, pandas, math\n",
    "from datetime import datetime, timedelta\n",
    "\n",
    "API_KEY=''"
   ]
  },
  {
   "cell_type": "markdown",
   "id": "d23c4ff6-fee3-450e-8ff8-5b65e785870b",
   "metadata": {},
   "source": [
    "## Downloading Gridded Data\n",
    "\n",
    "Argovis offers gridded data at its `/grids` endpoint. Available query string parameters are:\n",
    "\n",
    " - `gridName` (mandatory, one of rgTempTotal, rgPsalTotal, ohc): name of gridded product to search.\n",
    " - `startDate` (mandatory, format YYYY-MM-DDTHH:MM:SSZ at GMT0): beginning of time window to query.\n",
    " - `endDate` (mandatory, format YYYY-MM-DDTHH:MM:SSZ at GMT0): end of time window to query.\n",
    " - `polygon` (mandatory, format [[lon0,lat0],[lon1,lat1],...,[lonN,latN],[lon0,lat0]]): geographical region to query.\n",
    " - `presRange` (optional, format minimum_pressure,maximum_pressure): pressure window to filter for.\n",
    "\n",
    "As noted, `gridName`, `startDate`, `endDate` and `polygon` are all required for downloading gridded data, but we can get just the metadata record that describes some high-level information about each grid by providing only the `gridName` parameter:\n"
   ]
  },
  {
   "cell_type": "code",
   "execution_count": 96,
   "id": "e65511e9",
   "metadata": {},
   "outputs": [
    {
     "name": "stdout",
     "output_type": "stream",
     "text": [
      "{'_id': 'rgTempTotal', 'units': 'degree celcius (ITS-90)', 'levels': [2.5, 10, 20, 30, 40, 50, 60, 70, 80, 90, 100, 110, 120, 130, 140, 150, 160, 170, 182.5, 200, 220, 240, 260, 280, 300, 320, 340, 360, 380, 400, 420, 440, 462.5, 500, 550, 600, 650, 700, 750, 800, 850, 900, 950, 1000, 1050, 1100, 1150, 1200, 1250, 1300, 1350, 1412.5, 1500, 1600, 1700, 1800, 1900, 1975], 'date_added': '2022-04-27T23:07:27.943Z', 'lonrange': [-179.5, 179.5], 'latrange': [-64.5, 79.5], 'timerange': ['2004-01-15T00:00:00.000Z', '2018-12-15T00:00:00.000Z'], 'loncell': 1, 'latcell': 1}\n"
     ]
    }
   ],
   "source": [
    "params = {\n",
    "  \"gridName\": 'rgTempTotal',\n",
    "}\n",
    "\n",
    "r = requests.get('https://argovis-api.colorado.edu/grids', params=params, headers={'x-argokey': API_KEY})\n",
    "print(r.json())"
   ]
  },
  {
   "cell_type": "markdown",
   "id": "57185893",
   "metadata": {},
   "source": [
    "We see information about the Roemmich-Gilson Argo climatology, like what pressure levels are present, what the minimum and maximum of latitude, longitude and time is in the grid, and soforth.\n",
    "\n",
    "Let's try a simple request to download a piece of data from this climatology, a 10 degree box over the North Atlantic from the first quarter of 2012:"
   ]
  },
  {
   "cell_type": "code",
   "execution_count": 164,
   "id": "9a47ef81-cd32-4fb9-865b-3c49cbb137bc",
   "metadata": {},
   "outputs": [],
   "source": [
    "params = {\n",
    "  \"gridName\": 'rgTempTotal',\n",
    "  \"startDate\": '2012-01-01T00:00:00Z',\n",
    "  \"endDate\": '2012-04-01T00:00:00Z',\n",
    "  \"polygon\": '[[ -73, 40],[ -73, 30],[ -63, 30],[ -63, 40],[ -73, 40]]'\n",
    "}\n",
    "\n",
    "r = requests.get('https://argovis-api.colorado.edu/grids', params=params, headers={'x-argokey': API_KEY})\n",
    "rgdata = r.json()"
   ]
  },
  {
   "cell_type": "markdown",
   "id": "8448db43-fa21-41c1-92f4-91f2032bdffc",
   "metadata": {},
   "source": [
    "Like most Argovis API requests, you get a list of documents matching your query. Let's have a look at the first record in what the API returned to us:"
   ]
  },
  {
   "cell_type": "code",
   "execution_count": 165,
   "id": "bd993a72-c33c-4ad5-aea7-14216e732d25",
   "metadata": {},
   "outputs": [
    {
     "data": {
      "text/plain": [
       "{'_id': 'rgTempTotal',\n",
       " 'units': 'degree celcius (ITS-90)',\n",
       " 'levels': [2.5,\n",
       "  10,\n",
       "  20,\n",
       "  30,\n",
       "  40,\n",
       "  50,\n",
       "  60,\n",
       "  70,\n",
       "  80,\n",
       "  90,\n",
       "  100,\n",
       "  110,\n",
       "  120,\n",
       "  130,\n",
       "  140,\n",
       "  150,\n",
       "  160,\n",
       "  170,\n",
       "  182.5,\n",
       "  200,\n",
       "  220,\n",
       "  240,\n",
       "  260,\n",
       "  280,\n",
       "  300,\n",
       "  320,\n",
       "  340,\n",
       "  360,\n",
       "  380,\n",
       "  400,\n",
       "  420,\n",
       "  440,\n",
       "  462.5,\n",
       "  500,\n",
       "  550,\n",
       "  600,\n",
       "  650,\n",
       "  700,\n",
       "  750,\n",
       "  800,\n",
       "  850,\n",
       "  900,\n",
       "  950,\n",
       "  1000,\n",
       "  1050,\n",
       "  1100,\n",
       "  1150,\n",
       "  1200,\n",
       "  1250,\n",
       "  1300,\n",
       "  1350,\n",
       "  1412.5,\n",
       "  1500,\n",
       "  1600,\n",
       "  1700,\n",
       "  1800,\n",
       "  1900,\n",
       "  1975],\n",
       " 'date_added': '2022-04-27T23:07:27.943Z',\n",
       " 'lonrange': [-179.5, 179.5],\n",
       " 'latrange': [-64.5, 79.5],\n",
       " 'timerange': ['2004-01-15T00:00:00.000Z', '2018-12-15T00:00:00.000Z'],\n",
       " 'loncell': 1,\n",
       " 'latcell': 1}"
      ]
     },
     "execution_count": 165,
     "metadata": {},
     "output_type": "execute_result"
    }
   ],
   "source": [
    "rgdata[0]"
   ]
  },
  {
   "cell_type": "markdown",
   "id": "6e89592a-1ed2-49f8-8f85-6504ecd80860",
   "metadata": {},
   "source": [
    "The first object in a request to `/grids` is always the appropriate *metadata record* for the grid, the same as what you got from `/grids?gridName=rgTempTotal` above. We automatically include it at the front of the full data requests as it is necessary for interpreting that data, as we'll see immediately below.\n",
    "\n",
    "All the records returned by `/grids` after the first specify the actual data we wanted; let's have a look at one of them:"
   ]
  },
  {
   "cell_type": "code",
   "execution_count": 166,
   "id": "5d4cedeb-cb4a-44bf-8f40-a7a89e49a83b",
   "metadata": {},
   "outputs": [
    {
     "data": {
      "text/plain": [
       "{'_id': '62649121aa7c850607147ba4',\n",
       " 'g': {'type': 'Point', 'coordinates': [-70.5, 30.5]},\n",
       " 't': '2012-03-15T00:00:00.000Z',\n",
       " 'd': [20.604,\n",
       "  20.57,\n",
       "  20.526999,\n",
       "  20.497,\n",
       "  20.458,\n",
       "  20.417999,\n",
       "  20.386999,\n",
       "  20.335001,\n",
       "  20.261,\n",
       "  20.217999,\n",
       "  20.158001,\n",
       "  20.059999,\n",
       "  19.962,\n",
       "  19.766001,\n",
       "  19.559999,\n",
       "  19.317001,\n",
       "  19.201,\n",
       "  19.138,\n",
       "  18.983999,\n",
       "  18.778999,\n",
       "  18.555,\n",
       "  18.421,\n",
       "  18.333,\n",
       "  18.248001,\n",
       "  18.166,\n",
       "  18.087,\n",
       "  18.014,\n",
       "  17.941,\n",
       "  17.854,\n",
       "  17.773001,\n",
       "  17.646,\n",
       "  17.496,\n",
       "  17.334999,\n",
       "  16.996,\n",
       "  16.354,\n",
       "  15.572001,\n",
       "  14.469,\n",
       "  13.345,\n",
       "  12.179,\n",
       "  10.858,\n",
       "  9.599,\n",
       "  8.599,\n",
       "  7.766,\n",
       "  7.4,\n",
       "  6.79,\n",
       "  6.27,\n",
       "  5.87,\n",
       "  5.5,\n",
       "  5.264,\n",
       "  5.036,\n",
       "  4.884,\n",
       "  4.701,\n",
       "  4.485,\n",
       "  4.29,\n",
       "  4.115,\n",
       "  3.963,\n",
       "  3.849,\n",
       "  3.753]}"
      ]
     },
     "execution_count": 166,
     "metadata": {},
     "output_type": "execute_result"
    }
   ],
   "source": [
    "rgdata[1]"
   ]
  },
  {
   "cell_type": "markdown",
   "id": "6f03bcdf-dd7e-468b-a083-c2c73aa9a03a",
   "metadata": {},
   "source": [
    "By default, Argovis returns gridded data in a *profile-like* structure: this record, located in space by its `g` key (for geolocation) and time by its `t` key, contains the grid points for all corresponding depths in its `d` (for data) key. To interpret the list of numbers, compare it entry-by-entry to the `levels` key in the metadata record; for example, the two records printed above indicate that the temperature at these coordinates and 10 dbar depth is 20.57."
   ]
  },
  {
   "cell_type": "markdown",
   "id": "f7e37602-ecc9-469f-9f45-0cfeb71e3656",
   "metadata": {},
   "source": [
    "## Ingestion by xarray\n",
    "\n",
    "Xarray is a familiar pythonic data structure; we can transform a raw API response to an xarray with a helper similar to the following."
   ]
  },
  {
   "cell_type": "code",
   "execution_count": 167,
   "id": "5fce19f6",
   "metadata": {},
   "outputs": [],
   "source": [
    "def xargrid(grid):\n",
    "    # given the json response <grid> of a request to /grids,\n",
    "    # return an xarray object with coordinates time, lat, lon, depth, and measurement value.\n",
    "    \n",
    "    lat = []\n",
    "    lon = []\n",
    "    time = []\n",
    "    pres = []\n",
    "    meas = []\n",
    "    for p in grid[1:]:\n",
    "        for i, e in enumerate(p['d']):\n",
    "            lon.append(p['g']['coordinates'][0])\n",
    "            lat.append(p['g']['coordinates'][1])\n",
    "            time.append(p['t'])\n",
    "            meas.append(p['d'][i])\n",
    "            pres.append(grid[0]['levels'][i])\n",
    "            \n",
    "    df = pandas.DataFrame({\"latitude\": lat, \n",
    "                           \"longitude\": lon, \n",
    "                           \"time\": time, \n",
    "                           \"pressure\": pres, \n",
    "                           \"measurement\": meas}).set_index([\"latitude\",\"longitude\",\"time\",\"pressure\"])\n",
    "    return df.to_xarray()\n",
    "    \n",
    "ds = xargrid(rgdata)"
   ]
  },
  {
   "cell_type": "markdown",
   "id": "8412acba",
   "metadata": {},
   "source": [
    "Now we can do all the usual xarray operations; lets see what the ranges of our coordinate variables are:"
   ]
  },
  {
   "cell_type": "code",
   "execution_count": 168,
   "id": "8ec636e9",
   "metadata": {},
   "outputs": [
    {
     "name": "stdout",
     "output_type": "stream",
     "text": [
      "latitudes: [30.5 31.5 32.5 33.5 34.5 35.5 36.5 37.5 38.5 39.5]\n",
      "longitudes: [-72.5 -71.5 -70.5 -69.5 -68.5 -67.5 -66.5 -65.5 -64.5 -63.5]\n",
      "times: ['2012-01-15T00:00:00.000Z' '2012-02-15T00:00:00.000Z'\n",
      " '2012-03-15T00:00:00.000Z']\n",
      "pressures: [   2.5   10.    20.    30.    40.    50.    60.    70.    80.    90.\n",
      "  100.   110.   120.   130.   140.   150.   160.   170.   182.5  200.\n",
      "  220.   240.   260.   280.   300.   320.   340.   360.   380.   400.\n",
      "  420.   440.   462.5  500.   550.   600.   650.   700.   750.   800.\n",
      "  850.   900.   950.  1000.  1050.  1100.  1150.  1200.  1250.  1300.\n",
      " 1350.  1412.5 1500.  1600.  1700.  1800.  1900.  1975. ]\n"
     ]
    }
   ],
   "source": [
    "print('latitudes:',ds['latitude'].data)\n",
    "print('longitudes:',ds['longitude'].data)\n",
    "print('times:',ds['time'].data)\n",
    "print('pressures:',ds['pressure'].data)"
   ]
  },
  {
   "cell_type": "markdown",
   "id": "40cf7727",
   "metadata": {},
   "source": [
    "We can easily select a slice of this array at constant pressure and time, to produce a possibly more conventional, map-like grid representation, and plot it with xarray's built in plots:"
   ]
  },
  {
   "cell_type": "code",
   "execution_count": null,
   "id": "a79dff50",
   "metadata": {},
   "outputs": [],
   "source": [
    "gridmap = ds.loc[{\"time\":'2012-01-15T00:00:00.000Z', \"pressure\":2.5}]\n",
    "gridmap['measurement'].plot()"
   ]
  },
  {
   "cell_type": "markdown",
   "id": "8709ca0a",
   "metadata": {},
   "source": [
    "## Area-Weighted Means\n",
    "\n",
    "A common operation when considering gridded data is to weight a mean by area of grid cells, which changes with latitude. A helper to do this with Argovis grid data could look like the following."
   ]
  },
  {
   "cell_type": "code",
   "execution_count": 163,
   "id": "9bb74d6b",
   "metadata": {},
   "outputs": [
    {
     "data": {
      "text/plain": [
       "15.298908060646562"
      ]
     },
     "execution_count": 163,
     "metadata": {},
     "output_type": "execute_result"
    }
   ],
   "source": [
    "def amean(grid, cellsize):\n",
    "    # given an xarray dataset <grid> for a given depth and time,\n",
    "    # calculate the mean of the gridded data variable, weighted by grid cell area\n",
    "    \n",
    "    total = 0\n",
    "    totalweight = 0\n",
    "\n",
    "    for lon in gridmap['longitude'].data:\n",
    "        for lat in gridmap['latitude'].data:\n",
    "            meas = gridmap['measurement'].loc[{\"latitude\":lat, \"longitude\":lon}].data\n",
    "            highlat = abs(lat)+cellsize/2\n",
    "            if highlat > 90:\n",
    "                highlat = 180 - highlat\n",
    "            lowlat = abs(lat)-cellsize/2\n",
    "            weight = math.sin(math.pi/180*highlat) - math.sin(math.pi/180*lowlat)\n",
    "            total += meas*weight\n",
    "            totalweight += weight        \n",
    "    return total / totalweight\n",
    "        \n",
    "amean(gridmap, rgdata[0]['latcell'])"
   ]
  },
  {
   "cell_type": "code",
   "execution_count": null,
   "id": "c7296592",
   "metadata": {},
   "outputs": [],
   "source": []
  }
 ],
 "metadata": {
  "kernelspec": {
   "display_name": "argovis_demos",
   "language": "python",
   "name": "argovis_demos"
  },
  "language_info": {
   "codemirror_mode": {
    "name": "ipython",
    "version": 3
   },
   "file_extension": ".py",
   "mimetype": "text/x-python",
   "name": "python",
   "nbconvert_exporter": "python",
   "pygments_lexer": "ipython3",
   "version": "3.9.12"
  },
  "toc": {
   "base_numbering": 1,
   "nav_menu": {},
   "number_sections": true,
   "sideBar": true,
   "skip_h1_title": false,
   "title_cell": "Table of Contents",
   "title_sidebar": "Contents",
   "toc_cell": false,
   "toc_position": {},
   "toc_section_display": true,
   "toc_window_display": false
  }
 },
 "nbformat": 4,
 "nbformat_minor": 5
}
