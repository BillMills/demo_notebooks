{
 "cells": [
  {
   "cell_type": "markdown",
   "id": "f3ce719a",
   "metadata": {},
   "source": [
    "Argovis offers a growing list of gridded products, indexed and downloadable through its API. In this notebook, we'll use the Argovis API to access temperature fields (created from temperature observations) and describe different phases of ENSO."
   ]
  },
  {
   "cell_type": "markdown",
   "id": "1ee5d9de",
   "metadata": {},
   "source": [
    "## Learning goals\n",
    "### 1. Select regions in the ocean where the analysis of temperature fields is helpful to study different ENSO phases\n",
    "### 2. Ideantify and describe different ENSO phases"
   ]
  },
  {
   "cell_type": "markdown",
   "id": "64ee7f79",
   "metadata": {},
   "source": [
    "> NOTE: Argovis' API docs can be found at https://argovis-api.colorado.edu/docs/. If you have feedback and ideas as you use Argovis' API please send them to argovis@colorado.edu"
   ]
  },
  {
   "cell_type": "markdown",
   "id": "3ed81cf3",
   "metadata": {},
   "source": [
    "## Setup\n",
    "\n",
    "In addition to importing a few python packages, make sure to plug in your Argovis API key for `API_KEY` in the next cell. If you don't have a free Argovis API key yet, get one at https://argovis-keygen.colorado.edu/."
   ]
  },
  {
   "cell_type": "code",
   "execution_count": null,
   "id": "a03b43fe",
   "metadata": {},
   "outputs": [],
   "source": [
    "import warnings\n",
    "warnings.filterwarnings('ignore')\n",
    "\n",
    "import requests, xarray, pandas, math, datetime, copy\n",
    "import numpy as np\n",
    "from datetime import datetime, timedelta\n",
    "from argovisHelpers import helpers as avh\n",
    "import matplotlib.pyplot as plt\n",
    "from scipy import signal\n",
    "\n",
    "import urllib\n",
    "\n",
    "from grids_helper import def_activity_param, run_activity_maps, \\\n",
    "                        run_activity_sections, plot_line_pos_neg,\\\n",
    "                        query_grid_by_region_month_year, \\\n",
    "                        create_boxstr_for_query, \\\n",
    "                        areaweighted_region_mean"
   ]
  },
  {
   "cell_type": "code",
   "execution_count": null,
   "id": "0c6607cf",
   "metadata": {},
   "outputs": [],
   "source": [
    "API_KEY=''\n",
    "API_PREFIX = 'https://argovis-api.colorado.edu/'"
   ]
  },
  {
   "cell_type": "code",
   "execution_count": null,
   "id": "bd912f90",
   "metadata": {},
   "outputs": [],
   "source": [
    "# %%javascript\n",
    "# IPython.OutputArea.auto_scroll_threshold = 9999"
   ]
  },
  {
   "cell_type": "markdown",
   "id": "f42268d2",
   "metadata": {},
   "source": [
    "## Accessing gridded fields in Argovis"
   ]
  },
  {
   "cell_type": "markdown",
   "id": "fc7d031f",
   "metadata": {},
   "source": [
    "Argovis supports a number of grids through the same API endpoints. Let's begin by discovering what grids are available:"
   ]
  },
  {
   "cell_type": "code",
   "execution_count": null,
   "id": "9ecbb60f",
   "metadata": {},
   "outputs": [],
   "source": [
    "grids = avh.query('grids/vocabulary', options={'parameter':'gridName'}, apikey=API_KEY, apiroot=API_PREFIX)"
   ]
  },
  {
   "cell_type": "code",
   "execution_count": null,
   "id": "86523116",
   "metadata": {},
   "outputs": [],
   "source": [
    "[(x,grids[0][x]['grids']) for x in grids[0]]"
   ]
  },
  {
   "cell_type": "markdown",
   "id": "23d510b3",
   "metadata": {},
   "source": [
    "In the following, we will use the temperature product by Roemmich and Gilson, 2009, i.e. the `rg09_temperature` grid product found in the `rg09` grid. This product was created mapping mesurements from Argo profiles."
   ]
  },
  {
   "cell_type": "markdown",
   "id": "23c5f28e",
   "metadata": {},
   "source": [
    "## ---> Let's now use gridded temperature fields to look at maps and describe different ENSO phases"
   ]
  },
  {
   "cell_type": "markdown",
   "id": "83f804df",
   "metadata": {},
   "source": [
    "### Question #1 (please answer in the context of describing different ENSO phases): Which of the regions in the following would be helpful to look at in a temperature map? Options: 'equatorial_atlantic', 'equatorial_indian', 'equatorial_pacific'"
   ]
  },
  {
   "cell_type": "markdown",
   "id": "48960b3d",
   "metadata": {},
   "source": [
    "#### >>> NOTE: once you have your answer, please edit the next cell (if needed). As an example, if you would like to proceed with the region 'equatorial_atlantic', the line in the cell of code below should look like this: \n",
    "`region_selected       = 'equatorial_atlantic'`"
   ]
  },
  {
   "cell_type": "code",
   "execution_count": null,
   "id": "936c4e2d",
   "metadata": {},
   "outputs": [],
   "source": [
    "# select region in this cell of code\n",
    "region_selected       = 'equatorial_pacific'"
   ]
  },
  {
   "cell_type": "markdown",
   "id": "5b7ba3ce",
   "metadata": {},
   "source": [
    "### Question #2 (please answer in the context of describing different ENSO phases): What depth level should we select for the temperature map? Options: 'near_surface', 'near_1500m'"
   ]
  },
  {
   "cell_type": "markdown",
   "id": "c568b08c",
   "metadata": {},
   "source": [
    "#### >>> NOTE: once you have your answer, please edit the next cell (if needed). As an example, if you would like to proceed with the depth level 'near_surface', the line in the cell of code below should look like this: \n",
    "`depth_level_selected  = 'near_surface'`"
   ]
  },
  {
   "cell_type": "code",
   "execution_count": null,
   "id": "283ddda0",
   "metadata": {},
   "outputs": [],
   "source": [
    "# select depth level\n",
    "depth_level_selected  = 'near_surface'"
   ]
  },
  {
   "cell_type": "markdown",
   "id": "01954beb",
   "metadata": {},
   "source": [
    "#### Given the selection above, we now create the parameters to use in the following for the activity. HINT: As you run the next cell, please look at the messages printed on the screen and check if you selected the correct region and depth level for the map."
   ]
  },
  {
   "cell_type": "code",
   "execution_count": null,
   "id": "21df120c",
   "metadata": {},
   "outputs": [],
   "source": [
    "# create activity parameters based on selection above\n",
    "activity = def_activity_param('activity_enso',region_selected=region_selected, \\\n",
    "                              section_selected_lat='',depth_level_selected=depth_level_selected,\\\n",
    "                               API_KEY=API_KEY, API_PREFIX=API_PREFIX)"
   ]
  },
  {
   "cell_type": "markdown",
   "id": "008e95ec",
   "metadata": {},
   "source": [
    "### Let's first look at the selected temperature map (i.e. for the selected region and depth level) during normal conditions (this is the same as one of the plots we discussed in the lecture)"
   ]
  },
  {
   "cell_type": "markdown",
   "id": "ab8a2cc4",
   "metadata": {},
   "source": [
    "A red box is indicated in the map: this box will be helpful to answer Question #4 later, when you will compare other years to 2013 (2013 is a year characterized by normal conditions)."
   ]
  },
  {
   "cell_type": "code",
   "execution_count": null,
   "id": "ad624df2",
   "metadata": {},
   "outputs": [],
   "source": [
    "run_activity_maps(activity=activity,str_year='year_neutral_conditions')"
   ]
  },
  {
   "cell_type": "markdown",
   "id": "0d1d4b0e",
   "metadata": {},
   "source": [
    "### Question #3: Looking at the map above, describe one characteristic we discussed during the lecture for this temperature field. "
   ]
  },
  {
   "cell_type": "markdown",
   "id": "79abb880",
   "metadata": {},
   "source": [
    "### Answer:"
   ]
  },
  {
   "cell_type": "markdown",
   "id": "6926e704",
   "metadata": {},
   "source": [
    "### Let's now look at years when wind and current flow are different from normal"
   ]
  },
  {
   "cell_type": "code",
   "execution_count": null,
   "id": "16b8b238",
   "metadata": {},
   "outputs": [],
   "source": [
    "run_activity_maps(activity=activity,str_year='year_enso')"
   ]
  },
  {
   "cell_type": "markdown",
   "id": "5facc725",
   "metadata": {},
   "source": [
    "### Question #4: For each of the years in the maps above, how does the average temperature within the red box compare to 2013? Which years do you think may correspond to the same ENSO phase? (i.e. which years would you group together as they look similar to one another and different from 2013?) "
   ]
  },
  {
   "cell_type": "markdown",
   "id": "6e7c8e4f",
   "metadata": {},
   "source": [
    "NOTE: the colorbar is the same in each panel, hence each color corresponds to the same temperature in each panel."
   ]
  },
  {
   "cell_type": "markdown",
   "id": "c0d1fb3a",
   "metadata": {},
   "source": [
    "### Answer:"
   ]
  },
  {
   "cell_type": "markdown",
   "id": "ed9738ae",
   "metadata": {},
   "source": [
    "##  ---> Let's now use gridded temperature fields to look at zonal  (i.e. along longitude) sections and describe different ENSO phases"
   ]
  },
  {
   "cell_type": "markdown",
   "id": "f0d52cfb",
   "metadata": {},
   "source": [
    "### Question #5 (please answer in the context of describing different ENSO phases): What latitude would be helpful to select (and look at) for a zonal section? Options: 'subpolar','midlatitude','equatorial'"
   ]
  },
  {
   "cell_type": "markdown",
   "id": "c5acb422",
   "metadata": {},
   "source": [
    "#### >>> NOTE: once you have your answer, please edit the next cell (if needed). As an example, if you would like to proceed with a 'subpolar' latitude, the line below should look like this: \n",
    "`section_selected_lat = 'subpolar'`"
   ]
  },
  {
   "cell_type": "code",
   "execution_count": null,
   "id": "822570a4",
   "metadata": {},
   "outputs": [],
   "source": [
    "# select latitude band\n",
    "section_selected_lat = 'subpolar'"
   ]
  },
  {
   "cell_type": "markdown",
   "id": "9b151add",
   "metadata": {},
   "source": [
    "#### Given the selection above, we now create the parameters to use in the following for the activity. HINT: As you run the next cell, please look at the messages printed on the screen and check if you selected the correct latitude for the section."
   ]
  },
  {
   "cell_type": "code",
   "execution_count": null,
   "id": "81999a1d",
   "metadata": {},
   "outputs": [],
   "source": [
    "# create activity parameters based on selection above\n",
    "activity = def_activity_param('activity_enso',region_selected=region_selected, \\\n",
    "                              section_selected_lat=section_selected_lat,depth_level_selected=depth_level_selected,\\\n",
    "                               API_KEY=API_KEY, API_PREFIX=API_PREFIX)"
   ]
  },
  {
   "cell_type": "markdown",
   "id": "a17ec86b",
   "metadata": {},
   "source": [
    "### Let's first look at the selected latitude band during normal conditions (this is the same as one of the plots we discussed during the lecture)"
   ]
  },
  {
   "cell_type": "code",
   "execution_count": null,
   "id": "f6129ed1",
   "metadata": {},
   "outputs": [],
   "source": [
    "run_activity_sections(activity=activity,str_year='year_neutral_conditions')"
   ]
  },
  {
   "cell_type": "markdown",
   "id": "5b874133",
   "metadata": {},
   "source": [
    "### Question #6: Describe one characteristic we discussed (during the lecture) for this temperature field. Hint: describe the tilt of the 20-degree isotherm (black line)."
   ]
  },
  {
   "cell_type": "markdown",
   "id": "16d9672d",
   "metadata": {},
   "source": [
    "### Answer:"
   ]
  },
  {
   "cell_type": "markdown",
   "id": "0cb5d1ce",
   "metadata": {},
   "source": [
    "## Let's now look at years when wind and current flow are different from normal"
   ]
  },
  {
   "cell_type": "code",
   "execution_count": null,
   "id": "6c2405e2",
   "metadata": {},
   "outputs": [],
   "source": [
    "run_activity_sections(activity=activity,str_year='year_enso')"
   ]
  },
  {
   "cell_type": "markdown",
   "id": "46820d62",
   "metadata": {},
   "source": [
    "### Question #7: For each of the years, how does the temperature section compare with 2013? Which years do you think may correspond to the same ENSO phase? (i.e. which years would you group together as they look similar to one another and different from 2013?) Are the years in each group the same as in your answer for question #4?"
   ]
  },
  {
   "cell_type": "markdown",
   "id": "a41a2834",
   "metadata": {},
   "source": [
    "NOTE: the colorbar is the same in each panel, hence each color corresponds to the same temperature in each panel."
   ]
  },
  {
   "cell_type": "markdown",
   "id": "f277ccbf",
   "metadata": {},
   "source": [
    "### Answer:"
   ]
  },
  {
   "cell_type": "markdown",
   "id": "182bc825",
   "metadata": {},
   "source": [
    "# >>>>>>> ***Today's in-class activity ends here. If curious, please explore the remaining part of the notebook at home.*** <<<<<<<"
   ]
  },
  {
   "cell_type": "markdown",
   "id": "f6526658",
   "metadata": {},
   "source": [
    "## The remaining part of the notebook shows how to plot the ONI index and compare it with a temperature timeseries (in the same region) from the Roemmich and Gilson Argo gridded product. Please note the code may take several minutes to complete for the last plot in the notebook. If you run the code, you should see the plots we discussed in class."
   ]
  },
  {
   "cell_type": "markdown",
   "id": "65081b12",
   "metadata": {},
   "source": [
    "## Oceanic Niño Index (ONI)"
   ]
  },
  {
   "cell_type": "markdown",
   "id": "bdf18808",
   "metadata": {},
   "source": [
    "In the following, we will consider the ONI index (https://www.climate.gov/news-features/understanding-climate/climate-variability-oceanic-ni%C3%B1o-index). There are several indices used to monitor the tropical Pacific, all of which are based on SST anomalies averaged across a given region.  Usually the anomalies are computed relative to a base period of 30 years.  The Niño 3.4 index and the Oceanic Niño Index (ONI) are the most commonly used indices to define El Niño and La Niña events.  The ONI uses the same region as the Niño 3.4 index (5N-5S, 170W-120W).  The ONI uses a 3-month running mean, and to be classified as a full-fledged El Niño or La Niña, the anomalies must exceed +0.5C or -0.5C for at least five consecutive months.  This is the operational definition used by NOAA.\n",
    "\n",
    "We will compare the ONI index to a tempearature time series from the Roemmich and Gilson (2009) product."
   ]
  },
  {
   "cell_type": "code",
   "execution_count": null,
   "id": "22f540b2",
   "metadata": {},
   "outputs": [],
   "source": [
    "# load ONI\n",
    "url = \"https://www.cpc.ncep.noaa.gov/data/indices/oni.ascii.txt\"\n",
    "file = urllib.request.urlopen(url)\n",
    "\n",
    "ONI = []\n",
    "ONI_year = []\n",
    "ONI_mmm  = []\n",
    "\n",
    "for line in file:\n",
    "    decoded_line = line.decode(\"utf-8\")\n",
    "    #print(decoded_line)\n",
    "    if decoded_line.split(' ')[-1].replace('\\n','') !='ANOM':\n",
    "        ONI.append(float(decoded_line.split(' ')[-1].replace('\\n','')))\n",
    "        ONI_year.append(int(decoded_line.split(' ')[3]))\n",
    "        ONI_mmm.append((decoded_line.split(' ')[2]))"
   ]
  },
  {
   "cell_type": "code",
   "execution_count": null,
   "id": "678e1834",
   "metadata": {},
   "outputs": [],
   "source": [
    "# create datetime64 axis for ONI\n",
    "ONI_datetime64 = []\n",
    "for iyr in np.unique(ONI_year):\n",
    "    msk = [x==iyr for x in ONI_year]\n",
    "    for mm in np.arange(1,sum(msk)+1,1):\n",
    "        ONI_datetime64.append(np.datetime64(f'{iyr:04d}'+'-'+f'{mm:02d}'+'-15'))"
   ]
  },
  {
   "cell_type": "markdown",
   "id": "a5f400ea",
   "metadata": {},
   "source": [
    "Let's plot the ONI during the period of the Roemmich and Gilson (2009) product."
   ]
  },
  {
   "cell_type": "code",
   "execution_count": null,
   "id": "379ec0a3",
   "metadata": {},
   "outputs": [],
   "source": [
    "plot_line_pos_neg(data=np.array(ONI),data_time=np.array(ONI_datetime64), \\\n",
    "                  data_time_delta_num=12,data_ylabel='Temperature, degC',data_title='ONI',font_size='26')\n",
    "\n",
    "plt.xlim(np.datetime64('2004-01-01'),np.datetime64('2021-12-31'))\n",
    "#plt.xlim(np.datetime64('1990-01-01'),np.datetime64('2022-12-31'))\n",
    "plt.show()"
   ]
  },
  {
   "cell_type": "markdown",
   "id": "0cc12624",
   "metadata": {},
   "source": [
    "## Now let's make a plot for the same region from the Roemmich and Gilson (2009) product. "
   ]
  },
  {
   "cell_type": "markdown",
   "id": "d33fc599",
   "metadata": {},
   "source": [
    "The code below was run before and the plot included, as it takes a few minutes to get the data from Argovis. You can still run the code yourself: if you do so and wait, you should obtain the same plot."
   ]
  },
  {
   "cell_type": "code",
   "execution_count": null,
   "id": "cef332b6",
   "metadata": {},
   "outputs": [],
   "source": [
    "latitude_south_index = -5\n",
    "latitude_north_index = 5\n",
    "\n",
    "longitude_west_index = -170\n",
    "longitude_east_index = -120\n",
    "\n",
    "levels_index    = '0,5' # '290,310' # '0,5'\n",
    "\n",
    "data = query_grid_by_region_month_year( lattice_name = 'rg09' ,\\\n",
    "                                        grid_name=activity['grid_name'],\\\n",
    "                                        region_str = create_boxstr_for_query(longitude_west=longitude_west_index,\\\n",
    "                                                                             longitude_east=longitude_east_index, \\\n",
    "                                                                             latitude_south=latitude_south_index,\\\n",
    "                                                                             latitude_north=latitude_north_index), \\\n",
    "                                        long_conversion_type='long20_380',\\\n",
    "                                        levels=levels_index,\\\n",
    "                                        month_start=1,year_start=2004,\\\n",
    "                                        month_end=12,year_end=2021,\\\n",
    "                                        API_KEY=API_KEY,API_PREFIX=API_PREFIX)\n",
    "\n",
    "# compute anomalies\n",
    "data_reg_ave = areaweighted_region_mean(dxr=data.mean(dim=\"pressure\"))\n",
    "data_reg_ave_detrend = data_reg_ave*0 + signal.detrend(data_reg_ave[\"data\"])\n",
    "climatology = data_reg_ave_detrend.groupby(\"time.month\").mean(\"time\")\n",
    "data_reg_ave_anom   = data_reg_ave_detrend.groupby(\"time.month\") - climatology"
   ]
  },
  {
   "cell_type": "markdown",
   "id": "ffa16f90",
   "metadata": {},
   "source": [
    "Plot timeseries for the horizontal average, highlighting positive versus negative values. This figure should look like the one just above (as that one was obtained running the same code)."
   ]
  },
  {
   "cell_type": "code",
   "execution_count": null,
   "id": "03be9554",
   "metadata": {},
   "outputs": [],
   "source": [
    "plot_line_pos_neg(data=data_reg_ave_anom[\"data\"],data_time=data_reg_ave_anom[\"time\"].to_numpy(), \\\n",
    "                  data_time_delta_num=12,data_ylabel='Temperature, degC', \\\n",
    "                  data_title='Anomaly, after removing the 12-month climatology',font_size='26')\n",
    "\n",
    "plt.xlim(np.datetime64('2004-01-01'),np.datetime64('2021-12-31'))\n",
    "plt.show()"
   ]
  },
  {
   "cell_type": "code",
   "execution_count": null,
   "id": "fdf6c54e",
   "metadata": {},
   "outputs": [],
   "source": []
  }
 ],
 "metadata": {
  "kernelspec": {
   "display_name": "argovis_demos",
   "language": "python",
   "name": "argovis_demos"
  },
  "language_info": {
   "codemirror_mode": {
    "name": "ipython",
    "version": 3
   },
   "file_extension": ".py",
   "mimetype": "text/x-python",
   "name": "python",
   "nbconvert_exporter": "python",
   "pygments_lexer": "ipython3",
   "version": "3.9.13"
  },
  "toc": {
   "base_numbering": 1,
   "nav_menu": {},
   "number_sections": true,
   "sideBar": true,
   "skip_h1_title": false,
   "title_cell": "Table of Contents",
   "title_sidebar": "Contents",
   "toc_cell": false,
   "toc_position": {},
   "toc_section_display": true,
   "toc_window_display": false
  }
 },
 "nbformat": 4,
 "nbformat_minor": 5
}
